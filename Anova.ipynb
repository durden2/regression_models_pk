{
 "cells": [
  {
   "cell_type": "code",
   "execution_count": 7,
   "metadata": {},
   "outputs": [
    {
     "data": {
      "text/html": [
       "<table>\n",
       "<thead><tr><th scope=col>dteday</th><th scope=col>season</th><th scope=col>yr</th><th scope=col>mnth</th><th scope=col>holiday</th><th scope=col>weekday</th><th scope=col>workingday</th><th scope=col>weathersit</th><th scope=col>temp</th><th scope=col>atemp</th><th scope=col>hum</th><th scope=col>windspeed</th><th scope=col>casual</th><th scope=col>registered</th><th scope=col>cnt</th></tr></thead>\n",
       "<tbody>\n",
       "\t<tr><td>2011-01-01</td><td>1         </td><td>0         </td><td>1         </td><td>0         </td><td>6         </td><td>0         </td><td>2         </td><td>0.344167  </td><td>0.363625  </td><td>0.805833  </td><td>0.1604460 </td><td>331       </td><td> 654      </td><td> 985      </td></tr>\n",
       "\t<tr><td>2011-01-02</td><td>1         </td><td>0         </td><td>1         </td><td>0         </td><td>0         </td><td>0         </td><td>2         </td><td>0.363478  </td><td>0.353739  </td><td>0.696087  </td><td>0.2485390 </td><td>131       </td><td> 670      </td><td> 801      </td></tr>\n",
       "\t<tr><td>2011-01-03</td><td>1         </td><td>0         </td><td>1         </td><td>0         </td><td>1         </td><td>1         </td><td>1         </td><td>0.196364  </td><td>0.189405  </td><td>0.437273  </td><td>0.2483090 </td><td>120       </td><td>1229      </td><td>1349      </td></tr>\n",
       "\t<tr><td>2011-01-04</td><td>1         </td><td>0         </td><td>1         </td><td>0         </td><td>2         </td><td>1         </td><td>1         </td><td>0.200000  </td><td>0.212122  </td><td>0.590435  </td><td>0.1602960 </td><td>108       </td><td>1454      </td><td>1562      </td></tr>\n",
       "\t<tr><td>2011-01-05</td><td>1         </td><td>0         </td><td>1         </td><td>0         </td><td>3         </td><td>1         </td><td>1         </td><td>0.226957  </td><td>0.229270  </td><td>0.436957  </td><td>0.1869000 </td><td> 82       </td><td>1518      </td><td>1600      </td></tr>\n",
       "\t<tr><td>2011-01-06</td><td>1         </td><td>0         </td><td>1         </td><td>0         </td><td>4         </td><td>1         </td><td>1         </td><td>0.204348  </td><td>0.233209  </td><td>0.518261  </td><td>0.0895652 </td><td> 88       </td><td>1518      </td><td>1606      </td></tr>\n",
       "</tbody>\n",
       "</table>\n"
      ],
      "text/latex": [
       "\\begin{tabular}{r|lllllllllllllll}\n",
       " dteday & season & yr & mnth & holiday & weekday & workingday & weathersit & temp & atemp & hum & windspeed & casual & registered & cnt\\\\\n",
       "\\hline\n",
       "\t 2011-01-01 & 1          & 0          & 1          & 0          & 6          & 0          & 2          & 0.344167   & 0.363625   & 0.805833   & 0.1604460  & 331        &  654       &  985      \\\\\n",
       "\t 2011-01-02 & 1          & 0          & 1          & 0          & 0          & 0          & 2          & 0.363478   & 0.353739   & 0.696087   & 0.2485390  & 131        &  670       &  801      \\\\\n",
       "\t 2011-01-03 & 1          & 0          & 1          & 0          & 1          & 1          & 1          & 0.196364   & 0.189405   & 0.437273   & 0.2483090  & 120        & 1229       & 1349      \\\\\n",
       "\t 2011-01-04 & 1          & 0          & 1          & 0          & 2          & 1          & 1          & 0.200000   & 0.212122   & 0.590435   & 0.1602960  & 108        & 1454       & 1562      \\\\\n",
       "\t 2011-01-05 & 1          & 0          & 1          & 0          & 3          & 1          & 1          & 0.226957   & 0.229270   & 0.436957   & 0.1869000  &  82        & 1518       & 1600      \\\\\n",
       "\t 2011-01-06 & 1          & 0          & 1          & 0          & 4          & 1          & 1          & 0.204348   & 0.233209   & 0.518261   & 0.0895652  &  88        & 1518       & 1606      \\\\\n",
       "\\end{tabular}\n"
      ],
      "text/markdown": [
       "\n",
       "dteday | season | yr | mnth | holiday | weekday | workingday | weathersit | temp | atemp | hum | windspeed | casual | registered | cnt | \n",
       "|---|---|---|---|---|---|\n",
       "| 2011-01-01 | 1          | 0          | 1          | 0          | 6          | 0          | 2          | 0.344167   | 0.363625   | 0.805833   | 0.1604460  | 331        |  654       |  985       | \n",
       "| 2011-01-02 | 1          | 0          | 1          | 0          | 0          | 0          | 2          | 0.363478   | 0.353739   | 0.696087   | 0.2485390  | 131        |  670       |  801       | \n",
       "| 2011-01-03 | 1          | 0          | 1          | 0          | 1          | 1          | 1          | 0.196364   | 0.189405   | 0.437273   | 0.2483090  | 120        | 1229       | 1349       | \n",
       "| 2011-01-04 | 1          | 0          | 1          | 0          | 2          | 1          | 1          | 0.200000   | 0.212122   | 0.590435   | 0.1602960  | 108        | 1454       | 1562       | \n",
       "| 2011-01-05 | 1          | 0          | 1          | 0          | 3          | 1          | 1          | 0.226957   | 0.229270   | 0.436957   | 0.1869000  |  82        | 1518       | 1600       | \n",
       "| 2011-01-06 | 1          | 0          | 1          | 0          | 4          | 1          | 1          | 0.204348   | 0.233209   | 0.518261   | 0.0895652  |  88        | 1518       | 1606       | \n",
       "\n",
       "\n"
      ],
      "text/plain": [
       "  dteday     season yr mnth holiday weekday workingday weathersit temp    \n",
       "1 2011-01-01 1      0  1    0       6       0          2          0.344167\n",
       "2 2011-01-02 1      0  1    0       0       0          2          0.363478\n",
       "3 2011-01-03 1      0  1    0       1       1          1          0.196364\n",
       "4 2011-01-04 1      0  1    0       2       1          1          0.200000\n",
       "5 2011-01-05 1      0  1    0       3       1          1          0.226957\n",
       "6 2011-01-06 1      0  1    0       4       1          1          0.204348\n",
       "  atemp    hum      windspeed casual registered cnt \n",
       "1 0.363625 0.805833 0.1604460 331     654        985\n",
       "2 0.353739 0.696087 0.2485390 131     670        801\n",
       "3 0.189405 0.437273 0.2483090 120    1229       1349\n",
       "4 0.212122 0.590435 0.1602960 108    1454       1562\n",
       "5 0.229270 0.436957 0.1869000  82    1518       1600\n",
       "6 0.233209 0.518261 0.0895652  88    1518       1606"
      ]
     },
     "metadata": {},
     "output_type": "display_data"
    }
   ],
   "source": [
    "library(moments)\n",
    "bikes = read.csv(\"day.csv\",row.names=1)\n",
    "head(bikes)"
   ]
  },
  {
   "cell_type": "code",
   "execution_count": 8,
   "metadata": {},
   "outputs": [],
   "source": [
    "bikes.spring.cnt = (bikes$cnt[bikes$season == 1])\n",
    "bikes.summer.cnt = (bikes$cnt[bikes$season == 2])\n",
    "bikes.autumn.cnt = (bikes$cnt[bikes$season == 3])\n",
    "bikes.winter.cnt = (bikes$cnt[bikes$season == 4])"
   ]
  },
  {
   "cell_type": "code",
   "execution_count": 9,
   "metadata": {},
   "outputs": [
    {
     "data": {
      "image/png": "[encoded data removed]",
      "text/plain": [
       "plot without title"
      ]
     },
     "metadata": {},
     "output_type": "display_data"
    }
   ],
   "source": [
    "boxplot(cnt~season,data=bikes,col=\"light gray\",\n",
    "        ylab = \"Liczba rowerów\", xlab = \"Pora roku\")\n",
    "abline(h=0,col=\"blue\")"
   ]
  },
  {
   "cell_type": "code",
   "execution_count": 10,
   "metadata": {},
   "outputs": [
    {
     "data": {
      "text/html": [
       "181"
      ],
      "text/latex": [
       "181"
      ],
      "text/markdown": [
       "181"
      ],
      "text/plain": [
       "[1] 181"
      ]
     },
     "metadata": {},
     "output_type": "display_data"
    },
    {
     "data": {
      "text/html": [
       "184"
      ],
      "text/latex": [
       "184"
      ],
      "text/markdown": [
       "184"
      ],
      "text/plain": [
       "[1] 184"
      ]
     },
     "metadata": {},
     "output_type": "display_data"
    },
    {
     "data": {
      "text/html": [
       "188"
      ],
      "text/latex": [
       "188"
      ],
      "text/markdown": [
       "188"
      ],
      "text/plain": [
       "[1] 188"
      ]
     },
     "metadata": {},
     "output_type": "display_data"
    },
    {
     "data": {
      "text/html": [
       "178"
      ],
      "text/latex": [
       "178"
      ],
      "text/markdown": [
       "178"
      ],
      "text/plain": [
       "[1] 178"
      ]
     },
     "metadata": {},
     "output_type": "display_data"
    }
   ],
   "source": [
    "length(bikes.spring.cnt)\n",
    "length(bikes.summer.cnt)\n",
    "length(bikes.autumn.cnt)\n",
    "length(bikes.winter.cnt)"
   ]
  },
  {
   "cell_type": "code",
   "execution_count": 26,
   "metadata": {},
   "outputs": [
    {
     "data": {
      "text/html": [
       "'Skosnosc: -0.354654'"
      ],
      "text/latex": [
       "'Skosnosc: -0.354654'"
      ],
      "text/markdown": [
       "'Skosnosc: -0.354654'"
      ],
      "text/plain": [
       "[1] \"Skosnosc: -0.354654\""
      ]
     },
     "metadata": {},
     "output_type": "display_data"
    },
    {
     "data": {
      "text/html": [
       "'Kurtoza: 2.853147'"
      ],
      "text/latex": [
       "'Kurtoza: 2.853147'"
      ],
      "text/markdown": [
       "'Kurtoza: 2.853147'"
      ],
      "text/plain": [
       "[1] \"Kurtoza: 2.853147\""
      ]
     },
     "metadata": {},
     "output_type": "display_data"
    },
    {
     "data": {
      "text/html": [
       "'Skosnosc: -1.309165'"
      ],
      "text/latex": [
       "'Skosnosc: -1.309165'"
      ],
      "text/markdown": [
       "'Skosnosc: -1.309165'"
      ],
      "text/plain": [
       "[1] \"Skosnosc: -1.309165\""
      ]
     },
     "metadata": {},
     "output_type": "display_data"
    },
    {
     "data": {
      "text/html": [
       "'Kurtoza: 4.942668'"
      ],
      "text/latex": [
       "'Kurtoza: 4.942668'"
      ],
      "text/markdown": [
       "'Kurtoza: 4.942668'"
      ],
      "text/plain": [
       "[1] \"Kurtoza: 4.942668\""
      ]
     },
     "metadata": {},
     "output_type": "display_data"
    },
    {
     "data": {
      "text/html": [
       "'Skosnosc: -1.300848'"
      ],
      "text/latex": [
       "'Skosnosc: -1.300848'"
      ],
      "text/markdown": [
       "'Skosnosc: -1.300848'"
      ],
      "text/plain": [
       "[1] \"Skosnosc: -1.300848\""
      ]
     },
     "metadata": {},
     "output_type": "display_data"
    },
    {
     "data": {
      "text/html": [
       "'Kurtoza: 7.372366'"
      ],
      "text/latex": [
       "'Kurtoza: 7.372366'"
      ],
      "text/markdown": [
       "'Kurtoza: 7.372366'"
      ],
      "text/plain": [
       "[1] \"Kurtoza: 7.372366\""
      ]
     },
     "metadata": {},
     "output_type": "display_data"
    },
    {
     "data": {
      "text/html": [
       "'Skosnosc: -4.818603'"
      ],
      "text/latex": [
       "'Skosnosc: -4.818603'"
      ],
      "text/markdown": [
       "'Skosnosc: -4.818603'"
      ],
      "text/plain": [
       "[1] \"Skosnosc: -4.818603\""
      ]
     },
     "metadata": {},
     "output_type": "display_data"
    },
    {
     "data": {
      "text/html": [
       "'Kurtoza: 42.062470'"
      ],
      "text/latex": [
       "'Kurtoza: 42.062470'"
      ],
      "text/markdown": [
       "'Kurtoza: 42.062470'"
      ],
      "text/plain": [
       "[1] \"Kurtoza: 42.062470\""
      ]
     },
     "metadata": {},
     "output_type": "display_data"
    },
    {
     "data": {
      "image/png": "[encoded data removed]",
      "text/plain": [
       "Plot with title \"Histogram of bikes.winter.cnt\""
      ]
     },
     "metadata": {},
     "output_type": "display_data"
    }
   ],
   "source": [
    "par(mfrow = c(2,2))\n",
    "#bikes.spring.cnt\n",
    "sprintf(\"Skośność: %f\", skewness(bikes.spring.cnt))\n",
    "sprintf(\"Kurtoza: %f\", kurtosis(bikes.spring.cnt))\n",
    "hist(bikes.spring.cnt)\n",
    "\n",
    "#bikes.summer.cnt\n",
    "sprintf(\"Skośność: %f\",skewness(bikes.summer.cnt))\n",
    "sprintf(\"Kurtoza: %f\",kurtosis(bikes.summer.cnt))\n",
    "hist(bikes.summer.cnt)\n",
    "\n",
    "#bikes.autumn.cnt\n",
    "sprintf(\"Skośność: %f\",skewness(bikes.autumn.cnt))\n",
    "sprintf(\"Kurtoza: %f\",kurtosis(bikes.autumn.cnt))\n",
    "hist(bikes.autumn.cnt)\n",
    "\n",
    "#bikes.winter.cnt\n",
    "sprintf(\"Skośność: %f\",skewness(bikes.winter.cnt))\n",
    "sprintf(\"Kurtoza: %f\",kurtosis(bikes.winter.cnt))\n",
    "hist(bikes.winter.cnt)"
   ]
  },
  {
   "cell_type": "markdown",
   "metadata": {},
   "source": [
    "### Shapiro test"
   ]
  },
  {
   "cell_type": "code",
   "execution_count": 11,
   "metadata": {},
   "outputs": [
    {
     "data": {
      "text/plain": [
       "\n",
       "\tShapiro-Wilk normality test\n",
       "\n",
       "data:  bikes.spring.cnt\n",
       "W = 0.93805, p-value = 4.983e-07\n"
      ]
     },
     "metadata": {},
     "output_type": "display_data"
    }
   ],
   "source": [
    "shapiro.test(bikes.spring.cnt)"
   ]
  },
  {
   "cell_type": "code",
   "execution_count": 12,
   "metadata": {},
   "outputs": [
    {
     "data": {
      "text/plain": [
       "\n",
       "\tShapiro-Wilk normality test\n",
       "\n",
       "data:  bikes.summer.cnt\n",
       "W = 0.97934, p-value = 0.007909\n"
      ]
     },
     "metadata": {},
     "output_type": "display_data"
    }
   ],
   "source": [
    "shapiro.test(bikes.summer.cnt)"
   ]
  },
  {
   "cell_type": "code",
   "execution_count": 13,
   "metadata": {},
   "outputs": [
    {
     "data": {
      "text/plain": [
       "\n",
       "\tShapiro-Wilk normality test\n",
       "\n",
       "data:  bikes.autumn.cnt\n",
       "W = 0.96316, p-value = 7.679e-05\n"
      ]
     },
     "metadata": {},
     "output_type": "display_data"
    }
   ],
   "source": [
    "shapiro.test(bikes.autumn.cnt)"
   ]
  },
  {
   "cell_type": "code",
   "execution_count": 14,
   "metadata": {},
   "outputs": [
    {
     "data": {
      "text/plain": [
       "\n",
       "\tShapiro-Wilk normality test\n",
       "\n",
       "data:  bikes.winter.cnt\n",
       "W = 0.98148, p-value = 0.01819\n"
      ]
     },
     "metadata": {},
     "output_type": "display_data"
    }
   ],
   "source": [
    "shapiro.test(bikes.winter.cnt)"
   ]
  },
  {
   "cell_type": "markdown",
   "metadata": {},
   "source": [
    "### Bartlett test"
   ]
  },
  {
   "cell_type": "code",
   "execution_count": 10,
   "metadata": {},
   "outputs": [
    {
     "data": {
      "text/plain": [
       "\n",
       "\tBartlett test of homogeneity of variances\n",
       "\n",
       "data:  bikes$cnt and bikes$season\n",
       "Bartlett's K-squared = 10.899, df = 3, p-value = 0.01228\n"
      ]
     },
     "metadata": {},
     "output_type": "display_data"
    }
   ],
   "source": [
    "# test bartletta\n",
    "bartlett.test(bikes$cnt, bikes$season)"
   ]
  },
  {
   "cell_type": "markdown",
   "metadata": {},
   "source": [
    "### Hartley test"
   ]
  },
  {
   "cell_type": "code",
   "execution_count": 11,
   "metadata": {},
   "outputs": [],
   "source": [
    "min.variance = min(var(bikes.spring.cnt), var(bikes.summer.cnt), var(bikes.autumn.cnt),var(bikes.winter.cnt))\n",
    "max.variance = max(var(bikes.spring.cnt), var(bikes.summer.cnt), var(bikes.autumn.cnt),var(bikes.winter.cnt))"
   ]
  },
  {
   "cell_type": "code",
   "execution_count": 12,
   "metadata": {},
   "outputs": [
    {
     "data": {
      "text/html": [
       "3.85180236269747"
      ],
      "text/latex": [
       "3.85180236269747"
      ],
      "text/markdown": [
       "3.85180236269747"
      ],
      "text/plain": [
       "[1] 3.851802"
      ]
     },
     "metadata": {},
     "output_type": "display_data"
    }
   ],
   "source": [
    "hartley = max.variance / min.variance\n",
    "hartley"
   ]
  },
  {
   "cell_type": "markdown",
   "metadata": {},
   "source": [
    "### Anova test"
   ]
  },
  {
   "cell_type": "code",
   "execution_count": 13,
   "metadata": {},
   "outputs": [
    {
     "data": {
      "text/plain": [
       "                   Df    Sum Sq   Mean Sq F value Pr(>F)    \n",
       "as.factor(season)   3 9.506e+08 316865289   128.8 <2e-16 ***\n",
       "Residuals         727 1.789e+09   2460715                   \n",
       "---\n",
       "Signif. codes:  0 '***' 0.001 '**' 0.01 '*' 0.05 '.' 0.1 ' ' 1"
      ]
     },
     "metadata": {},
     "output_type": "display_data"
    }
   ],
   "source": [
    "bikes.anova = aov(cnt~as.factor(season), data=bikes)\n",
    "summary(bikes.anova)"
   ]
  },
  {
   "cell_type": "markdown",
   "metadata": {},
   "source": [
    "### Tukey test"
   ]
  },
  {
   "cell_type": "code",
   "execution_count": 14,
   "metadata": {},
   "outputs": [
    {
     "data": {
      "text/plain": [
       "  Tukey multiple comparisons of means\n",
       "    95% family-wise confidence level\n",
       "\n",
       "Fit: aov(formula = cnt ~ as.factor(season), data = bikes)\n",
       "\n",
       "$`as.factor(season)`\n",
       "         diff        lwr       upr     p adj\n",
       "2-1 2388.1989  1965.3325 2811.0653 0.0000000\n",
       "3-1 3040.1706  2619.5409 3460.8003 0.0000000\n",
       "4-1 2124.0303  1697.6444 2550.4163 0.0000000\n",
       "3-2  651.9717   233.0927 1070.8507 0.0003925\n",
       "4-2 -264.1686  -688.8276  160.4904 0.3781913\n",
       "4-3 -916.1403 -1338.5720 -493.7085 0.0000002\n"
      ]
     },
     "metadata": {},
     "output_type": "display_data"
    }
   ],
   "source": [
    "TukeyHSD(bikes.anova)"
   ]
  },
  {
   "cell_type": "markdown",
   "metadata": {},
   "source": [
    "### Kruskal-Wallis test (nieparamteryczna ANOVA)"
   ]
  },
  {
   "cell_type": "code",
   "execution_count": 15,
   "metadata": {},
   "outputs": [
    {
     "data": {
      "text/plain": [
       "\n",
       "\tKruskal-Wallis rank sum test\n",
       "\n",
       "data:  bikes$cnt by bikes$season\n",
       "Kruskal-Wallis chi-squared = 250.93, df = 3, p-value < 2.2e-16\n"
      ]
     },
     "metadata": {},
     "output_type": "display_data"
    }
   ],
   "source": [
    "kruskal.test(bikes$cnt~bikes$season)"
   ]
  },
  {
   "cell_type": "code",
   "execution_count": 8,
   "metadata": {},
   "outputs": [
    {
     "data": {
      "text/plain": [
       "\n",
       "\tPairwise comparisons using t tests with pooled SD \n",
       "\n",
       "data:  bikes$cnt and bikes$season \n",
       "\n",
       "  1       2       3    \n",
       "2 < 2e-16 -       -    \n",
       "3 < 2e-16 0.00041 -    \n",
       "4 < 2e-16 0.65777 2e-07\n",
       "\n",
       "P value adjustment method: bonferroni "
      ]
     },
     "metadata": {},
     "output_type": "display_data"
    }
   ],
   "source": [
    "pairwise.t.test(bikes$cnt, bikes$season, p.adj = \"bonf\", pool.sd=TRUE, paired=FALSE )"
   ]
  },
  {
   "cell_type": "markdown",
   "metadata": {},
   "source": []
  }
 ],
 "metadata": {
  "kernelspec": {
   "display_name": "R",
   "language": "R",
   "name": "ir"
  },
  "language_info": {
   "codemirror_mode": "r",
   "file_extension": ".r",
   "mimetype": "text/x-r-source",
   "name": "R",
   "pygments_lexer": "r",
   "version": "3.5.1"
  },
  "latex_envs": {
   "LaTeX_envs_menu_present": true,
   "autoclose": false,
   "autocomplete": true,
   "bibliofile": "biblio.bib",
   "cite_by": "apalike",
   "current_citInitial": 1,
   "eqLabelWithNumbers": true,
   "eqNumInitial": 1,
   "hotkeys": {
    "equation": "Ctrl-E",
    "itemize": "Ctrl-I"
   },
   "labels_anchors": false,
   "latex_user_defs": false,
   "report_style_numbering": false,
   "user_envs_cfg": false
  },
  "toc": {
   "base_numbering": 1,
   "nav_menu": {},
   "number_sections": true,
   "sideBar": true,
   "skip_h1_title": false,
   "title_cell": "Table of Contents",
   "title_sidebar": "Contents",
   "toc_cell": false,
   "toc_position": {},
   "toc_section_display": true,
   "toc_window_display": false
  }
 },
 "nbformat": 4,
 "nbformat_minor": 2
}
