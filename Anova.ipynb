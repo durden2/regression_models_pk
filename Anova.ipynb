{
 "cells": [
  {
   "cell_type": "code",
   "execution_count": 2,
   "metadata": {},
   "outputs": [
    {
     "data": {
      "text/html": [
       "<table>\n",
       "<thead><tr><th scope=col>dteday</th><th scope=col>season</th><th scope=col>yr</th><th scope=col>mnth</th><th scope=col>holiday</th><th scope=col>weekday</th><th scope=col>workingday</th><th scope=col>weathersit</th><th scope=col>temp</th><th scope=col>atemp</th><th scope=col>hum</th><th scope=col>windspeed</th><th scope=col>casual</th><th scope=col>registered</th><th scope=col>cnt</th></tr></thead>\n",
       "<tbody>\n",
       "\t<tr><td>2011-01-01</td><td>1         </td><td>0         </td><td>1         </td><td>0         </td><td>6         </td><td>0         </td><td>2         </td><td>0.344167  </td><td>0.363625  </td><td>0.805833  </td><td>0.1604460 </td><td>331       </td><td> 654      </td><td> 985      </td></tr>\n",
       "\t<tr><td>2011-01-02</td><td>1         </td><td>0         </td><td>1         </td><td>0         </td><td>0         </td><td>0         </td><td>2         </td><td>0.363478  </td><td>0.353739  </td><td>0.696087  </td><td>0.2485390 </td><td>131       </td><td> 670      </td><td> 801      </td></tr>\n",
       "\t<tr><td>2011-01-03</td><td>1         </td><td>0         </td><td>1         </td><td>0         </td><td>1         </td><td>1         </td><td>1         </td><td>0.196364  </td><td>0.189405  </td><td>0.437273  </td><td>0.2483090 </td><td>120       </td><td>1229      </td><td>1349      </td></tr>\n",
       "\t<tr><td>2011-01-04</td><td>1         </td><td>0         </td><td>1         </td><td>0         </td><td>2         </td><td>1         </td><td>1         </td><td>0.200000  </td><td>0.212122  </td><td>0.590435  </td><td>0.1602960 </td><td>108       </td><td>1454      </td><td>1562      </td></tr>\n",
       "\t<tr><td>2011-01-05</td><td>1         </td><td>0         </td><td>1         </td><td>0         </td><td>3         </td><td>1         </td><td>1         </td><td>0.226957  </td><td>0.229270  </td><td>0.436957  </td><td>0.1869000 </td><td> 82       </td><td>1518      </td><td>1600      </td></tr>\n",
       "\t<tr><td>2011-01-06</td><td>1         </td><td>0         </td><td>1         </td><td>0         </td><td>4         </td><td>1         </td><td>1         </td><td>0.204348  </td><td>0.233209  </td><td>0.518261  </td><td>0.0895652 </td><td> 88       </td><td>1518      </td><td>1606      </td></tr>\n",
       "</tbody>\n",
       "</table>\n"
      ],
      "text/latex": [
       "\\begin{tabular}{r|lllllllllllllll}\n",
       " dteday & season & yr & mnth & holiday & weekday & workingday & weathersit & temp & atemp & hum & windspeed & casual & registered & cnt\\\\\n",
       "\\hline\n",
       "\t 2011-01-01 & 1          & 0          & 1          & 0          & 6          & 0          & 2          & 0.344167   & 0.363625   & 0.805833   & 0.1604460  & 331        &  654       &  985      \\\\\n",
       "\t 2011-01-02 & 1          & 0          & 1          & 0          & 0          & 0          & 2          & 0.363478   & 0.353739   & 0.696087   & 0.2485390  & 131        &  670       &  801      \\\\\n",
       "\t 2011-01-03 & 1          & 0          & 1          & 0          & 1          & 1          & 1          & 0.196364   & 0.189405   & 0.437273   & 0.2483090  & 120        & 1229       & 1349      \\\\\n",
       "\t 2011-01-04 & 1          & 0          & 1          & 0          & 2          & 1          & 1          & 0.200000   & 0.212122   & 0.590435   & 0.1602960  & 108        & 1454       & 1562      \\\\\n",
       "\t 2011-01-05 & 1          & 0          & 1          & 0          & 3          & 1          & 1          & 0.226957   & 0.229270   & 0.436957   & 0.1869000  &  82        & 1518       & 1600      \\\\\n",
       "\t 2011-01-06 & 1          & 0          & 1          & 0          & 4          & 1          & 1          & 0.204348   & 0.233209   & 0.518261   & 0.0895652  &  88        & 1518       & 1606      \\\\\n",
       "\\end{tabular}\n"
      ],
      "text/markdown": [
       "\n",
       "dteday | season | yr | mnth | holiday | weekday | workingday | weathersit | temp | atemp | hum | windspeed | casual | registered | cnt | \n",
       "|---|---|---|---|---|---|\n",
       "| 2011-01-01 | 1          | 0          | 1          | 0          | 6          | 0          | 2          | 0.344167   | 0.363625   | 0.805833   | 0.1604460  | 331        |  654       |  985       | \n",
       "| 2011-01-02 | 1          | 0          | 1          | 0          | 0          | 0          | 2          | 0.363478   | 0.353739   | 0.696087   | 0.2485390  | 131        |  670       |  801       | \n",
       "| 2011-01-03 | 1          | 0          | 1          | 0          | 1          | 1          | 1          | 0.196364   | 0.189405   | 0.437273   | 0.2483090  | 120        | 1229       | 1349       | \n",
       "| 2011-01-04 | 1          | 0          | 1          | 0          | 2          | 1          | 1          | 0.200000   | 0.212122   | 0.590435   | 0.1602960  | 108        | 1454       | 1562       | \n",
       "| 2011-01-05 | 1          | 0          | 1          | 0          | 3          | 1          | 1          | 0.226957   | 0.229270   | 0.436957   | 0.1869000  |  82        | 1518       | 1600       | \n",
       "| 2011-01-06 | 1          | 0          | 1          | 0          | 4          | 1          | 1          | 0.204348   | 0.233209   | 0.518261   | 0.0895652  |  88        | 1518       | 1606       | \n",
       "\n",
       "\n"
      ],
      "text/plain": [
       "  dteday     season yr mnth holiday weekday workingday weathersit temp    \n",
       "1 2011-01-01 1      0  1    0       6       0          2          0.344167\n",
       "2 2011-01-02 1      0  1    0       0       0          2          0.363478\n",
       "3 2011-01-03 1      0  1    0       1       1          1          0.196364\n",
       "4 2011-01-04 1      0  1    0       2       1          1          0.200000\n",
       "5 2011-01-05 1      0  1    0       3       1          1          0.226957\n",
       "6 2011-01-06 1      0  1    0       4       1          1          0.204348\n",
       "  atemp    hum      windspeed casual registered cnt \n",
       "1 0.363625 0.805833 0.1604460 331     654        985\n",
       "2 0.353739 0.696087 0.2485390 131     670        801\n",
       "3 0.189405 0.437273 0.2483090 120    1229       1349\n",
       "4 0.212122 0.590435 0.1602960 108    1454       1562\n",
       "5 0.229270 0.436957 0.1869000  82    1518       1600\n",
       "6 0.233209 0.518261 0.0895652  88    1518       1606"
      ]
     },
     "metadata": {},
     "output_type": "display_data"
    }
   ],
   "source": [
    "library(moments)\n",
    "bikes = read.csv(\"day.csv\",row.names=1)\n",
    "head(bikes)"
   ]
  },
  {
   "cell_type": "code",
   "execution_count": 3,
   "metadata": {},
   "outputs": [],
   "source": [
    "bikes.spring.cnt = bikes$cnt[bikes$season == 1]\n",
    "bikes.summer.cnt = bikes$cnt[bikes$season == 2]\n",
    "bikes.autumn.cnt = bikes$cnt[bikes$season == 3]\n",
    "bikes.winter.cnt = bikes$cnt[bikes$season == 4]"
   ]
  },
  {
   "cell_type": "code",
   "execution_count": 4,
   "metadata": {},
   "outputs": [
    {
     "data": {
      "image/png": "[encoded data removed]",
      "text/plain": [
       "plot without title"
      ]
     },
     "metadata": {},
     "output_type": "display_data"
    }
   ],
   "source": [
    "boxplot(cnt~season,data=bikes,col=\"light gray\",\n",
    "        ylab = \"Liczba rowerów\", xlab = \"Pora roku\")\n",
    "abline(h=0,col=\"blue\")"
   ]
  },
  {
   "cell_type": "code",
   "execution_count": 22,
   "metadata": {},
   "outputs": [
    {
     "data": {
      "text/html": [
       "'Skośność: 0.877970'"
      ],
      "text/latex": [
       "'Skośność: 0.877970'"
      ],
      "text/markdown": [
       "'Skośność: 0.877970'"
      ],
      "text/plain": [
       "[1] \"Skośność: 0.877970\""
      ]
     },
     "metadata": {},
     "output_type": "display_data"
    },
    {
     "data": {
      "text/html": [
       "'Kurtoza: 3.471485'"
      ],
      "text/latex": [
       "'Kurtoza: 3.471485'"
      ],
      "text/markdown": [
       "'Kurtoza: 3.471485'"
      ],
      "text/plain": [
       "[1] \"Kurtoza: 3.471485\""
      ]
     },
     "metadata": {},
     "output_type": "display_data"
    },
    {
     "data": {
      "text/html": [
       "'Skośność: -0.261461'"
      ],
      "text/latex": [
       "'Skośność: -0.261461'"
      ],
      "text/markdown": [
       "'Skośność: -0.261461'"
      ],
      "text/plain": [
       "[1] \"Skośność: -0.261461\""
      ]
     },
     "metadata": {},
     "output_type": "display_data"
    },
    {
     "data": {
      "text/html": [
       "'Kurtoza: 2.390451'"
      ],
      "text/latex": [
       "'Kurtoza: 2.390451'"
      ],
      "text/markdown": [
       "'Kurtoza: 2.390451'"
      ],
      "text/plain": [
       "[1] \"Kurtoza: 2.390451\""
      ]
     },
     "metadata": {},
     "output_type": "display_data"
    },
    {
     "data": {
      "image/png": "[encoded data removed]",
      "text/plain": [
       "Plot with title \"Histogram of bikes.spring.cnt\""
      ]
     },
     "metadata": {},
     "output_type": "display_data"
    },
    {
     "data": {
      "text/html": [
       "'Skośność: -0.095464'"
      ],
      "text/latex": [
       "'Skośność: -0.095464'"
      ],
      "text/markdown": [
       "'Skośność: -0.095464'"
      ],
      "text/plain": [
       "[1] \"Skośność: -0.095464\""
      ]
     },
     "metadata": {},
     "output_type": "display_data"
    },
    {
     "data": {
      "text/html": [
       "'Kurtoza: 2.419311'"
      ],
      "text/latex": [
       "'Kurtoza: 2.419311'"
      ],
      "text/markdown": [
       "'Kurtoza: 2.419311'"
      ],
      "text/plain": [
       "[1] \"Kurtoza: 2.419311\""
      ]
     },
     "metadata": {},
     "output_type": "display_data"
    },
    {
     "data": {
      "image/png": "[encoded data removed]",
      "text/plain": [
       "Plot with title \"Histogram of bikes.summer.cnt\""
      ]
     },
     "metadata": {},
     "output_type": "display_data"
    },
    {
     "data": {
      "text/html": [
       "'Skośność: 0.091741'"
      ],
      "text/latex": [
       "'Skośność: 0.091741'"
      ],
      "text/markdown": [
       "'Skośność: 0.091741'"
      ],
      "text/plain": [
       "[1] \"Skośność: 0.091741\""
      ]
     },
     "metadata": {},
     "output_type": "display_data"
    },
    {
     "data": {
      "text/html": [
       "'Kurtoza: 2.713946'"
      ],
      "text/latex": [
       "'Kurtoza: 2.713946'"
      ],
      "text/markdown": [
       "'Kurtoza: 2.713946'"
      ],
      "text/plain": [
       "[1] \"Kurtoza: 2.713946\""
      ]
     },
     "metadata": {},
     "output_type": "display_data"
    },
    {
     "data": {
      "image/png": "[encoded data removed]",
      "text/plain": [
       "Plot with title \"Histogram of bikes.autumn.cnt\""
      ]
     },
     "metadata": {},
     "output_type": "display_data"
    },
    {
     "data": {
      "image/png": "[encoded data removed]",
      "text/plain": [
       "Plot with title \"Histogram of bikes.winter.cnt\""
      ]
     },
     "metadata": {},
     "output_type": "display_data"
    }
   ],
   "source": [
    "#bikes.spring.cnt\n",
    "sprintf(\"Skośność: %f\", skewness(bikes.spring.cnt))\n",
    "sprintf(\"Kurtoza: %f\", kurtosis(bikes.spring.cnt))\n",
    "hist(bikes.spring.cnt)\n",
    "\n",
    "#bikes.summer.cnt\n",
    "sprintf(\"Skośność: %f\",skewness(bikes.summer.cnt))\n",
    "sprintf(\"Kurtoza: %f\",kurtosis(bikes.summer.cnt))\n",
    "hist(bikes.summer.cnt)\n",
    "\n",
    "#bikes.autumn.cnt\n",
    "sprintf(\"Skośność: %f\",skewness(bikes.autumn.cnt))\n",
    "sprintf(\"Kurtoza: %f\",kurtosis(bikes.autumn.cnt))\n",
    "hist(bikes.autumn.cnt)\n",
    "\n",
    "#bikes.winter.cnt\n",
    "sprintf(\"Skośność: %f\",skewness(bikes.winter.cnt))\n",
    "sprintf(\"Kurtoza: %f\",kurtosis(bikes.winter.cnt))\n",
    "hist(bikes.winter.cnt)"
   ]
  },
  {
   "cell_type": "markdown",
   "metadata": {},
   "source": [
    "### Shapiro test"
   ]
  },
  {
   "cell_type": "markdown",
   "metadata": {},
   "source": [
    "### Bartlett test"
   ]
  },
  {
   "cell_type": "code",
   "execution_count": 32,
   "metadata": {},
   "outputs": [
    {
     "data": {
      "text/plain": [
       "\n",
       "\tBartlett test of homogeneity of variances\n",
       "\n",
       "data:  bikes$cnt and bikes$season\n",
       "Bartlett's K-squared = 10.899, df = 3, p-value = 0.01228\n"
      ]
     },
     "metadata": {},
     "output_type": "display_data"
    }
   ],
   "source": [
    "# test bartletta\n",
    "bartlett.test(bikes$cnt, bikes$season)"
   ]
  },
  {
   "cell_type": "markdown",
   "metadata": {},
   "source": [
    "### Hartley test"
   ]
  },
  {
   "cell_type": "code",
   "execution_count": 30,
   "metadata": {},
   "outputs": [],
   "source": [
    "min.variance = min(var(bikes.spring.cnt), var(bikes.summer.cnt), var(bikes.autumn.cnt),var(bikes.winter.cnt))\n",
    "max.variance = max(var(bikes.spring.cnt), var(bikes.summer.cnt), var(bikes.autumn.cnt),var(bikes.winter.cnt))"
   ]
  },
  {
   "cell_type": "code",
   "execution_count": 31,
   "metadata": {},
   "outputs": [
    {
     "data": {
      "text/html": [
       "1.47394433979793"
      ],
      "text/latex": [
       "1.47394433979793"
      ],
      "text/markdown": [
       "1.47394433979793"
      ],
      "text/plain": [
       "[1] 1.473944"
      ]
     },
     "metadata": {},
     "output_type": "display_data"
    }
   ],
   "source": [
    "hartley = max.variance / min.variance\n",
    "hartley"
   ]
  },
  {
   "cell_type": "markdown",
   "metadata": {},
   "source": [
    "### Anova test"
   ]
  },
  {
   "cell_type": "code",
   "execution_count": 38,
   "metadata": {},
   "outputs": [
    {
     "data": {
      "text/plain": [
       "                   Df    Sum Sq   Mean Sq F value Pr(>F)    \n",
       "as.factor(season)   3 9.506e+08 316865289   128.8 <2e-16 ***\n",
       "Residuals         727 1.789e+09   2460715                   \n",
       "---\n",
       "Signif. codes:  0 '***' 0.001 '**' 0.01 '*' 0.05 '.' 0.1 ' ' 1"
      ]
     },
     "metadata": {},
     "output_type": "display_data"
    }
   ],
   "source": [
    "bikes.anova = aov(cnt~as.factor(season), data=bikes)\n",
    "summary(bikes.anova)"
   ]
  },
  {
   "cell_type": "markdown",
   "metadata": {},
   "source": [
    "### Tukey test"
   ]
  },
  {
   "cell_type": "code",
   "execution_count": 39,
   "metadata": {},
   "outputs": [
    {
     "data": {
      "text/plain": [
       "  Tukey multiple comparisons of means\n",
       "    95% family-wise confidence level\n",
       "\n",
       "Fit: aov(formula = cnt ~ as.factor(season), data = bikes)\n",
       "\n",
       "$`as.factor(season)`\n",
       "         diff        lwr       upr     p adj\n",
       "2-1 2388.1989  1965.3325 2811.0653 0.0000000\n",
       "3-1 3040.1706  2619.5409 3460.8003 0.0000000\n",
       "4-1 2124.0303  1697.6444 2550.4163 0.0000000\n",
       "3-2  651.9717   233.0927 1070.8507 0.0003925\n",
       "4-2 -264.1686  -688.8276  160.4904 0.3781913\n",
       "4-3 -916.1403 -1338.5720 -493.7085 0.0000002\n"
      ]
     },
     "metadata": {},
     "output_type": "display_data"
    }
   ],
   "source": [
    "TukeyHSD(bikes.anova)"
   ]
  },
  {
   "cell_type": "code",
   "execution_count": null,
   "metadata": {},
   "outputs": [],
   "source": []
  }
 ],
 "metadata": {
  "kernelspec": {
   "display_name": "R",
   "language": "R",
   "name": "ir"
  },
  "language_info": {
   "codemirror_mode": "r",
   "file_extension": ".r",
   "mimetype": "text/x-r-source",
   "name": "R",
   "pygments_lexer": "r",
   "version": "3.5.1"
  }
 },
 "nbformat": 4,
 "nbformat_minor": 2
}
