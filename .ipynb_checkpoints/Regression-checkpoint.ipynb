{
 "cells": [
  {
   "cell_type": "code",
   "execution_count": 1,
   "metadata": {},
   "outputs": [],
   "source": [
    "data = read.csv(\"day.csv\")"
   ]
  },
  {
   "cell_type": "code",
   "execution_count": 2,
   "metadata": {},
   "outputs": [
    {
     "data": {
      "text/html": [
       "<table>\n",
       "<thead><tr><th scope=col>instant</th><th scope=col>dteday</th><th scope=col>season</th><th scope=col>yr</th><th scope=col>mnth</th><th scope=col>holiday</th><th scope=col>weekday</th><th scope=col>workingday</th><th scope=col>weathersit</th><th scope=col>temp</th><th scope=col>atemp</th><th scope=col>hum</th><th scope=col>windspeed</th><th scope=col>casual</th><th scope=col>registered</th><th scope=col>cnt</th></tr></thead>\n",
       "<tbody>\n",
       "\t<tr><td>1         </td><td>2011-01-01</td><td>1         </td><td>0         </td><td>1         </td><td>0         </td><td>6         </td><td>0         </td><td>2         </td><td>0.344167  </td><td>0.363625  </td><td>0.805833  </td><td>0.1604460 </td><td>331       </td><td> 654      </td><td> 985      </td></tr>\n",
       "\t<tr><td>2         </td><td>2011-01-02</td><td>1         </td><td>0         </td><td>1         </td><td>0         </td><td>0         </td><td>0         </td><td>2         </td><td>0.363478  </td><td>0.353739  </td><td>0.696087  </td><td>0.2485390 </td><td>131       </td><td> 670      </td><td> 801      </td></tr>\n",
       "\t<tr><td>3         </td><td>2011-01-03</td><td>1         </td><td>0         </td><td>1         </td><td>0         </td><td>1         </td><td>1         </td><td>1         </td><td>0.196364  </td><td>0.189405  </td><td>0.437273  </td><td>0.2483090 </td><td>120       </td><td>1229      </td><td>1349      </td></tr>\n",
       "\t<tr><td>4         </td><td>2011-01-04</td><td>1         </td><td>0         </td><td>1         </td><td>0         </td><td>2         </td><td>1         </td><td>1         </td><td>0.200000  </td><td>0.212122  </td><td>0.590435  </td><td>0.1602960 </td><td>108       </td><td>1454      </td><td>1562      </td></tr>\n",
       "\t<tr><td>5         </td><td>2011-01-05</td><td>1         </td><td>0         </td><td>1         </td><td>0         </td><td>3         </td><td>1         </td><td>1         </td><td>0.226957  </td><td>0.229270  </td><td>0.436957  </td><td>0.1869000 </td><td> 82       </td><td>1518      </td><td>1600      </td></tr>\n",
       "\t<tr><td>6         </td><td>2011-01-06</td><td>1         </td><td>0         </td><td>1         </td><td>0         </td><td>4         </td><td>1         </td><td>1         </td><td>0.204348  </td><td>0.233209  </td><td>0.518261  </td><td>0.0895652 </td><td> 88       </td><td>1518      </td><td>1606      </td></tr>\n",
       "</tbody>\n",
       "</table>\n"
      ],
      "text/latex": [
       "\\begin{tabular}{r|llllllllllllllll}\n",
       " instant & dteday & season & yr & mnth & holiday & weekday & workingday & weathersit & temp & atemp & hum & windspeed & casual & registered & cnt\\\\\n",
       "\\hline\n",
       "\t 1          & 2011-01-01 & 1          & 0          & 1          & 0          & 6          & 0          & 2          & 0.344167   & 0.363625   & 0.805833   & 0.1604460  & 331        &  654       &  985      \\\\\n",
       "\t 2          & 2011-01-02 & 1          & 0          & 1          & 0          & 0          & 0          & 2          & 0.363478   & 0.353739   & 0.696087   & 0.2485390  & 131        &  670       &  801      \\\\\n",
       "\t 3          & 2011-01-03 & 1          & 0          & 1          & 0          & 1          & 1          & 1          & 0.196364   & 0.189405   & 0.437273   & 0.2483090  & 120        & 1229       & 1349      \\\\\n",
       "\t 4          & 2011-01-04 & 1          & 0          & 1          & 0          & 2          & 1          & 1          & 0.200000   & 0.212122   & 0.590435   & 0.1602960  & 108        & 1454       & 1562      \\\\\n",
       "\t 5          & 2011-01-05 & 1          & 0          & 1          & 0          & 3          & 1          & 1          & 0.226957   & 0.229270   & 0.436957   & 0.1869000  &  82        & 1518       & 1600      \\\\\n",
       "\t 6          & 2011-01-06 & 1          & 0          & 1          & 0          & 4          & 1          & 1          & 0.204348   & 0.233209   & 0.518261   & 0.0895652  &  88        & 1518       & 1606      \\\\\n",
       "\\end{tabular}\n"
      ],
      "text/markdown": [
       "\n",
       "instant | dteday | season | yr | mnth | holiday | weekday | workingday | weathersit | temp | atemp | hum | windspeed | casual | registered | cnt | \n",
       "|---|---|---|---|---|---|\n",
       "| 1          | 2011-01-01 | 1          | 0          | 1          | 0          | 6          | 0          | 2          | 0.344167   | 0.363625   | 0.805833   | 0.1604460  | 331        |  654       |  985       | \n",
       "| 2          | 2011-01-02 | 1          | 0          | 1          | 0          | 0          | 0          | 2          | 0.363478   | 0.353739   | 0.696087   | 0.2485390  | 131        |  670       |  801       | \n",
       "| 3          | 2011-01-03 | 1          | 0          | 1          | 0          | 1          | 1          | 1          | 0.196364   | 0.189405   | 0.437273   | 0.2483090  | 120        | 1229       | 1349       | \n",
       "| 4          | 2011-01-04 | 1          | 0          | 1          | 0          | 2          | 1          | 1          | 0.200000   | 0.212122   | 0.590435   | 0.1602960  | 108        | 1454       | 1562       | \n",
       "| 5          | 2011-01-05 | 1          | 0          | 1          | 0          | 3          | 1          | 1          | 0.226957   | 0.229270   | 0.436957   | 0.1869000  |  82        | 1518       | 1600       | \n",
       "| 6          | 2011-01-06 | 1          | 0          | 1          | 0          | 4          | 1          | 1          | 0.204348   | 0.233209   | 0.518261   | 0.0895652  |  88        | 1518       | 1606       | \n",
       "\n",
       "\n"
      ],
      "text/plain": [
       "  instant dteday     season yr mnth holiday weekday workingday weathersit\n",
       "1 1       2011-01-01 1      0  1    0       6       0          2         \n",
       "2 2       2011-01-02 1      0  1    0       0       0          2         \n",
       "3 3       2011-01-03 1      0  1    0       1       1          1         \n",
       "4 4       2011-01-04 1      0  1    0       2       1          1         \n",
       "5 5       2011-01-05 1      0  1    0       3       1          1         \n",
       "6 6       2011-01-06 1      0  1    0       4       1          1         \n",
       "  temp     atemp    hum      windspeed casual registered cnt \n",
       "1 0.344167 0.363625 0.805833 0.1604460 331     654        985\n",
       "2 0.363478 0.353739 0.696087 0.2485390 131     670        801\n",
       "3 0.196364 0.189405 0.437273 0.2483090 120    1229       1349\n",
       "4 0.200000 0.212122 0.590435 0.1602960 108    1454       1562\n",
       "5 0.226957 0.229270 0.436957 0.1869000  82    1518       1600\n",
       "6 0.204348 0.233209 0.518261 0.0895652  88    1518       1606"
      ]
     },
     "metadata": {},
     "output_type": "display_data"
    }
   ],
   "source": [
    "head(data)"
   ]
  },
  {
   "cell_type": "code",
   "execution_count": 3,
   "metadata": {},
   "outputs": [
    {
     "data": {
      "text/plain": [
       "    instant             dteday        season            yr        \n",
       " Min.   :  1.0   2011-01-01:  1   Min.   :1.000   Min.   :0.0000  \n",
       " 1st Qu.:183.5   2011-01-02:  1   1st Qu.:2.000   1st Qu.:0.0000  \n",
       " Median :366.0   2011-01-03:  1   Median :3.000   Median :1.0000  \n",
       " Mean   :366.0   2011-01-04:  1   Mean   :2.497   Mean   :0.5007  \n",
       " 3rd Qu.:548.5   2011-01-05:  1   3rd Qu.:3.000   3rd Qu.:1.0000  \n",
       " Max.   :731.0   2011-01-06:  1   Max.   :4.000   Max.   :1.0000  \n",
       "                 (Other)   :725                                   \n",
       "      mnth          holiday           weekday        workingday   \n",
       " Min.   : 1.00   Min.   :0.00000   Min.   :0.000   Min.   :0.000  \n",
       " 1st Qu.: 4.00   1st Qu.:0.00000   1st Qu.:1.000   1st Qu.:0.000  \n",
       " Median : 7.00   Median :0.00000   Median :3.000   Median :1.000  \n",
       " Mean   : 6.52   Mean   :0.02873   Mean   :2.997   Mean   :0.684  \n",
       " 3rd Qu.:10.00   3rd Qu.:0.00000   3rd Qu.:5.000   3rd Qu.:1.000  \n",
       " Max.   :12.00   Max.   :1.00000   Max.   :6.000   Max.   :1.000  \n",
       "                                                                  \n",
       "   weathersit         temp             atemp              hum        \n",
       " Min.   :1.000   Min.   :0.05913   Min.   :0.07907   Min.   :0.0000  \n",
       " 1st Qu.:1.000   1st Qu.:0.33708   1st Qu.:0.33784   1st Qu.:0.5200  \n",
       " Median :1.000   Median :0.49833   Median :0.48673   Median :0.6267  \n",
       " Mean   :1.395   Mean   :0.49538   Mean   :0.47435   Mean   :0.6279  \n",
       " 3rd Qu.:2.000   3rd Qu.:0.65542   3rd Qu.:0.60860   3rd Qu.:0.7302  \n",
       " Max.   :3.000   Max.   :0.86167   Max.   :0.84090   Max.   :0.9725  \n",
       "                                                                     \n",
       "   windspeed           casual         registered        cnt      \n",
       " Min.   :0.02239   Min.   :   2.0   Min.   :  20   Min.   :  22  \n",
       " 1st Qu.:0.13495   1st Qu.: 315.5   1st Qu.:2497   1st Qu.:3152  \n",
       " Median :0.18097   Median : 713.0   Median :3662   Median :4548  \n",
       " Mean   :0.19049   Mean   : 848.2   Mean   :3656   Mean   :4504  \n",
       " 3rd Qu.:0.23321   3rd Qu.:1096.0   3rd Qu.:4776   3rd Qu.:5956  \n",
       " Max.   :0.50746   Max.   :3410.0   Max.   :6946   Max.   :8714  \n",
       "                                                                 "
      ]
     },
     "metadata": {},
     "output_type": "display_data"
    }
   ],
   "source": [
    "summary(data)"
   ]
  },
  {
   "cell_type": "code",
   "execution_count": 4,
   "metadata": {},
   "outputs": [],
   "source": [
    "keeps <- c(\"temp\",  \"hum\", \"windspeed\", \"casual\",\"registered\", \"cnt\")\n",
    "df = data[keeps]"
   ]
  },
  {
   "cell_type": "code",
   "execution_count": 5,
   "metadata": {},
   "outputs": [
    {
     "data": {
      "text/html": [
       "<table>\n",
       "<thead><tr><th></th><th scope=col>temp</th><th scope=col>hum</th><th scope=col>windspeed</th><th scope=col>casual</th><th scope=col>registered</th><th scope=col>cnt</th></tr></thead>\n",
       "<tbody>\n",
       "\t<tr><th scope=row>temp</th><td> 1.0000000 </td><td> 0.12696294</td><td>-0.1579441 </td><td> 0.54328466</td><td> 0.5400120 </td><td> 0.6274940 </td></tr>\n",
       "\t<tr><th scope=row>hum</th><td> 0.1269629 </td><td> 1.00000000</td><td>-0.2484891 </td><td>-0.07700788</td><td>-0.0910886 </td><td>-0.1006586 </td></tr>\n",
       "\t<tr><th scope=row>windspeed</th><td>-0.1579441 </td><td>-0.24848910</td><td> 1.0000000 </td><td>-0.16761335</td><td>-0.2174490 </td><td>-0.2345450 </td></tr>\n",
       "\t<tr><th scope=row>casual</th><td> 0.5432847 </td><td>-0.07700788</td><td>-0.1676133 </td><td> 1.00000000</td><td> 0.3952825 </td><td> 0.6728044 </td></tr>\n",
       "\t<tr><th scope=row>registered</th><td> 0.5400120 </td><td>-0.09108860</td><td>-0.2174490 </td><td> 0.39528245</td><td> 1.0000000 </td><td> 0.9455169 </td></tr>\n",
       "\t<tr><th scope=row>cnt</th><td> 0.6274940 </td><td>-0.10065856</td><td>-0.2345450 </td><td> 0.67280443</td><td> 0.9455169 </td><td> 1.0000000 </td></tr>\n",
       "</tbody>\n",
       "</table>\n"
      ],
      "text/latex": [
       "\\begin{tabular}{r|llllll}\n",
       "  & temp & hum & windspeed & casual & registered & cnt\\\\\n",
       "\\hline\n",
       "\ttemp &  1.0000000  &  0.12696294 & -0.1579441  &  0.54328466 &  0.5400120  &  0.6274940 \\\\\n",
       "\thum &  0.1269629  &  1.00000000 & -0.2484891  & -0.07700788 & -0.0910886  & -0.1006586 \\\\\n",
       "\twindspeed & -0.1579441  & -0.24848910 &  1.0000000  & -0.16761335 & -0.2174490  & -0.2345450 \\\\\n",
       "\tcasual &  0.5432847  & -0.07700788 & -0.1676133  &  1.00000000 &  0.3952825  &  0.6728044 \\\\\n",
       "\tregistered &  0.5400120  & -0.09108860 & -0.2174490  &  0.39528245 &  1.0000000  &  0.9455169 \\\\\n",
       "\tcnt &  0.6274940  & -0.10065856 & -0.2345450  &  0.67280443 &  0.9455169  &  1.0000000 \\\\\n",
       "\\end{tabular}\n"
      ],
      "text/markdown": [
       "\n",
       "| <!--/--> | temp | hum | windspeed | casual | registered | cnt | \n",
       "|---|---|---|---|---|---|\n",
       "| temp |  1.0000000  |  0.12696294 | -0.1579441  |  0.54328466 |  0.5400120  |  0.6274940  | \n",
       "| hum |  0.1269629  |  1.00000000 | -0.2484891  | -0.07700788 | -0.0910886  | -0.1006586  | \n",
       "| windspeed | -0.1579441  | -0.24848910 |  1.0000000  | -0.16761335 | -0.2174490  | -0.2345450  | \n",
       "| casual |  0.5432847  | -0.07700788 | -0.1676133  |  1.00000000 |  0.3952825  |  0.6728044  | \n",
       "| registered |  0.5400120  | -0.09108860 | -0.2174490  |  0.39528245 |  1.0000000  |  0.9455169  | \n",
       "| cnt |  0.6274940  | -0.10065856 | -0.2345450  |  0.67280443 |  0.9455169  |  1.0000000  | \n",
       "\n",
       "\n"
      ],
      "text/plain": [
       "           temp       hum         windspeed  casual      registered cnt       \n",
       "temp        1.0000000  0.12696294 -0.1579441  0.54328466  0.5400120  0.6274940\n",
       "hum         0.1269629  1.00000000 -0.2484891 -0.07700788 -0.0910886 -0.1006586\n",
       "windspeed  -0.1579441 -0.24848910  1.0000000 -0.16761335 -0.2174490 -0.2345450\n",
       "casual      0.5432847 -0.07700788 -0.1676133  1.00000000  0.3952825  0.6728044\n",
       "registered  0.5400120 -0.09108860 -0.2174490  0.39528245  1.0000000  0.9455169\n",
       "cnt         0.6274940 -0.10065856 -0.2345450  0.67280443  0.9455169  1.0000000"
      ]
     },
     "metadata": {},
     "output_type": "display_data"
    }
   ],
   "source": [
    "cor(df)"
   ]
  },
  {
   "cell_type": "code",
   "execution_count": 12,
   "metadata": {},
   "outputs": [],
   "source": [
    "model <- lm(data$cnt~data$temp + data$atemp  + data$hum + data$windspeed)"
   ]
  },
  {
   "cell_type": "code",
   "execution_count": 13,
   "metadata": {},
   "outputs": [
    {
     "data": {
      "text/plain": [
       "\n",
       "Call:\n",
       "lm(formula = data$cnt ~ data$temp + data$atemp + data$hum + data$windspeed)\n",
       "\n",
       "Residuals:\n",
       "   Min     1Q Median     3Q    Max \n",
       " -4855  -1046    -79   1055   3564 \n",
       "\n",
       "Coefficients:\n",
       "               Estimate Std. Error t value Pr(>|t|)    \n",
       "(Intercept)      3860.4      355.4  10.862  < 2e-16 ***\n",
       "data$temp        2111.8     2282.2   0.925   0.3551    \n",
       "data$atemp       5139.2     2577.0   1.994   0.0465 *  \n",
       "data$hum        -3149.1      384.0  -8.201 1.08e-15 ***\n",
       "data$windspeed  -4528.7      721.1  -6.280 5.82e-10 ***\n",
       "---\n",
       "Signif. codes:  0 '***' 0.001 '**' 0.01 '*' 0.05 '.' 0.1 ' ' 1\n",
       "\n",
       "Residual standard error: 1422 on 726 degrees of freedom\n",
       "Multiple R-squared:  0.4638,\tAdjusted R-squared:  0.4609 \n",
       "F-statistic:   157 on 4 and 726 DF,  p-value: < 2.2e-16\n"
      ]
     },
     "metadata": {},
     "output_type": "display_data"
    },
    {
     "data": {
      "image/png": "[encoded data removed]",
      "text/plain": [
       "Plot with title \"\""
      ]
     },
     "metadata": {},
     "output_type": "display_data"
    }
   ],
   "source": [
    "summary(model)\n",
    "par(mfrow=c(2, 2))\n",
    "plot(model)"
   ]
  },
  {
   "cell_type": "code",
   "execution_count": 8,
   "metadata": {},
   "outputs": [
    {
     "name": "stdout",
     "output_type": "stream",
     "text": [
      "Start:  AIC=-38708.77\n",
      "data$cnt ~ data$temp + data$atemp + data$hum + data$windspeed + \n",
      "    data$casual + data$registered\n",
      "\n"
     ]
    },
    {
     "name": "stderr",
     "output_type": "stream",
     "text": [
      "Warning message:\n",
      "\"attempting model selection on an essentially perfect fit is nonsense\""
     ]
    },
    {
     "name": "stdout",
     "output_type": "stream",
     "text": [
      "                  Df  Sum of Sq        RSS    AIC\n",
      "- data$temp        1          0          0 -40012\n",
      "- data$atemp       1          0          0 -39242\n",
      "- data$hum         1          0          0 -39068\n",
      "- data$windspeed   1          0          0 -38974\n",
      "<none>                                   0 -38709\n",
      "- data$casual      1  228122496  228122496   9260\n",
      "- data$registered  1 1144624609 1144624609  10439\n",
      "\n",
      "Step:  AIC=-40011.5\n",
      "data$cnt ~ data$atemp + data$hum + data$windspeed + data$casual + \n",
      "    data$registered\n",
      "\n"
     ]
    },
    {
     "name": "stderr",
     "output_type": "stream",
     "text": [
      "Warning message:\n",
      "\"attempting model selection on an essentially perfect fit is nonsense\""
     ]
    },
    {
     "name": "stdout",
     "output_type": "stream",
     "text": [
      "                  Df  Sum of Sq        RSS    AIC\n",
      "<none>                                   0 -40012\n",
      "- data$hum         1          0          0 -39777\n",
      "- data$atemp       1          0          0 -39487\n",
      "- data$windspeed   1          0          0 -39441\n",
      "- data$casual      1  228526690  228526690   9259\n",
      "- data$registered  1 1144906684 1144906684  10437\n"
     ]
    }
   ],
   "source": [
    "model.backward <- step(model, direction=\"backward\", trace=1)"
   ]
  },
  {
   "cell_type": "code",
   "execution_count": 9,
   "metadata": {},
   "outputs": [
    {
     "name": "stdout",
     "output_type": "stream",
     "text": [
      "Start:  AIC=-38708.77\n",
      "data$cnt ~ data$temp + data$atemp + data$hum + data$windspeed + \n",
      "    data$casual + data$registered\n",
      "\n"
     ]
    }
   ],
   "source": [
    "model.forward <- step(model, direction=\"forward\", trace=1, scope= ~data$temp + data$atemp + data$hum + data$windspeed + data$casual + data$registered)"
   ]
  },
  {
   "cell_type": "code",
   "execution_count": null,
   "metadata": {},
   "outputs": [],
   "source": []
  },
  {
   "cell_type": "code",
   "execution_count": null,
   "metadata": {},
   "outputs": [],
   "source": []
  }
 ],
 "metadata": {
  "kernelspec": {
   "display_name": "R",
   "language": "R",
   "name": "ir"
  },
  "language_info": {
   "codemirror_mode": "r",
   "file_extension": ".r",
   "mimetype": "text/x-r-source",
   "name": "R",
   "pygments_lexer": "r",
   "version": "3.5.1"
  }
 },
 "nbformat": 4,
 "nbformat_minor": 2
}
