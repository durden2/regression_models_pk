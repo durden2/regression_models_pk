{
 "cells": [
  {
   "cell_type": "markdown",
   "metadata": {},
   "source": [
    "## Normalizacja"
   ]
  },
  {
   "cell_type": "markdown",
   "metadata": {},
   "source": [
    "#### Wczytanie i wstępna wizualizacja danych"
   ]
  },
  {
   "cell_type": "code",
   "execution_count": 306,
   "metadata": {},
   "outputs": [
    {
     "data": {
      "text/html": [
       "<table>\n",
       "<thead><tr><th scope=col>instant</th><th scope=col>dteday</th><th scope=col>season</th><th scope=col>yr</th><th scope=col>mnth</th><th scope=col>holiday</th><th scope=col>weekday</th><th scope=col>workingday</th><th scope=col>weathersit</th><th scope=col>temp</th><th scope=col>atemp</th><th scope=col>hum</th><th scope=col>windspeed</th><th scope=col>casual</th><th scope=col>registered</th><th scope=col>cnt</th></tr></thead>\n",
       "<tbody>\n",
       "\t<tr><td>1         </td><td>2011-01-01</td><td>1         </td><td>0         </td><td>1         </td><td>0         </td><td>6         </td><td>0         </td><td>2         </td><td>0.344167  </td><td>0.363625  </td><td>0.805833  </td><td>0.1604460 </td><td>331       </td><td> 654      </td><td> 985      </td></tr>\n",
       "\t<tr><td>2         </td><td>2011-01-02</td><td>1         </td><td>0         </td><td>1         </td><td>0         </td><td>0         </td><td>0         </td><td>2         </td><td>0.363478  </td><td>0.353739  </td><td>0.696087  </td><td>0.2485390 </td><td>131       </td><td> 670      </td><td> 801      </td></tr>\n",
       "\t<tr><td>3         </td><td>2011-01-03</td><td>1         </td><td>0         </td><td>1         </td><td>0         </td><td>1         </td><td>1         </td><td>1         </td><td>0.196364  </td><td>0.189405  </td><td>0.437273  </td><td>0.2483090 </td><td>120       </td><td>1229      </td><td>1349      </td></tr>\n",
       "\t<tr><td>4         </td><td>2011-01-04</td><td>1         </td><td>0         </td><td>1         </td><td>0         </td><td>2         </td><td>1         </td><td>1         </td><td>0.200000  </td><td>0.212122  </td><td>0.590435  </td><td>0.1602960 </td><td>108       </td><td>1454      </td><td>1562      </td></tr>\n",
       "\t<tr><td>5         </td><td>2011-01-05</td><td>1         </td><td>0         </td><td>1         </td><td>0         </td><td>3         </td><td>1         </td><td>1         </td><td>0.226957  </td><td>0.229270  </td><td>0.436957  </td><td>0.1869000 </td><td> 82       </td><td>1518      </td><td>1600      </td></tr>\n",
       "\t<tr><td>6         </td><td>2011-01-06</td><td>1         </td><td>0         </td><td>1         </td><td>0         </td><td>4         </td><td>1         </td><td>1         </td><td>0.204348  </td><td>0.233209  </td><td>0.518261  </td><td>0.0895652 </td><td> 88       </td><td>1518      </td><td>1606      </td></tr>\n",
       "</tbody>\n",
       "</table>\n"
      ],
      "text/latex": [
       "\\begin{tabular}{r|llllllllllllllll}\n",
       " instant & dteday & season & yr & mnth & holiday & weekday & workingday & weathersit & temp & atemp & hum & windspeed & casual & registered & cnt\\\\\n",
       "\\hline\n",
       "\t 1          & 2011-01-01 & 1          & 0          & 1          & 0          & 6          & 0          & 2          & 0.344167   & 0.363625   & 0.805833   & 0.1604460  & 331        &  654       &  985      \\\\\n",
       "\t 2          & 2011-01-02 & 1          & 0          & 1          & 0          & 0          & 0          & 2          & 0.363478   & 0.353739   & 0.696087   & 0.2485390  & 131        &  670       &  801      \\\\\n",
       "\t 3          & 2011-01-03 & 1          & 0          & 1          & 0          & 1          & 1          & 1          & 0.196364   & 0.189405   & 0.437273   & 0.2483090  & 120        & 1229       & 1349      \\\\\n",
       "\t 4          & 2011-01-04 & 1          & 0          & 1          & 0          & 2          & 1          & 1          & 0.200000   & 0.212122   & 0.590435   & 0.1602960  & 108        & 1454       & 1562      \\\\\n",
       "\t 5          & 2011-01-05 & 1          & 0          & 1          & 0          & 3          & 1          & 1          & 0.226957   & 0.229270   & 0.436957   & 0.1869000  &  82        & 1518       & 1600      \\\\\n",
       "\t 6          & 2011-01-06 & 1          & 0          & 1          & 0          & 4          & 1          & 1          & 0.204348   & 0.233209   & 0.518261   & 0.0895652  &  88        & 1518       & 1606      \\\\\n",
       "\\end{tabular}\n"
      ],
      "text/markdown": [
       "\n",
       "instant | dteday | season | yr | mnth | holiday | weekday | workingday | weathersit | temp | atemp | hum | windspeed | casual | registered | cnt | \n",
       "|---|---|---|---|---|---|\n",
       "| 1          | 2011-01-01 | 1          | 0          | 1          | 0          | 6          | 0          | 2          | 0.344167   | 0.363625   | 0.805833   | 0.1604460  | 331        |  654       |  985       | \n",
       "| 2          | 2011-01-02 | 1          | 0          | 1          | 0          | 0          | 0          | 2          | 0.363478   | 0.353739   | 0.696087   | 0.2485390  | 131        |  670       |  801       | \n",
       "| 3          | 2011-01-03 | 1          | 0          | 1          | 0          | 1          | 1          | 1          | 0.196364   | 0.189405   | 0.437273   | 0.2483090  | 120        | 1229       | 1349       | \n",
       "| 4          | 2011-01-04 | 1          | 0          | 1          | 0          | 2          | 1          | 1          | 0.200000   | 0.212122   | 0.590435   | 0.1602960  | 108        | 1454       | 1562       | \n",
       "| 5          | 2011-01-05 | 1          | 0          | 1          | 0          | 3          | 1          | 1          | 0.226957   | 0.229270   | 0.436957   | 0.1869000  |  82        | 1518       | 1600       | \n",
       "| 6          | 2011-01-06 | 1          | 0          | 1          | 0          | 4          | 1          | 1          | 0.204348   | 0.233209   | 0.518261   | 0.0895652  |  88        | 1518       | 1606       | \n",
       "\n",
       "\n"
      ],
      "text/plain": [
       "  instant dteday     season yr mnth holiday weekday workingday weathersit\n",
       "1 1       2011-01-01 1      0  1    0       6       0          2         \n",
       "2 2       2011-01-02 1      0  1    0       0       0          2         \n",
       "3 3       2011-01-03 1      0  1    0       1       1          1         \n",
       "4 4       2011-01-04 1      0  1    0       2       1          1         \n",
       "5 5       2011-01-05 1      0  1    0       3       1          1         \n",
       "6 6       2011-01-06 1      0  1    0       4       1          1         \n",
       "  temp     atemp    hum      windspeed casual registered cnt \n",
       "1 0.344167 0.363625 0.805833 0.1604460 331     654        985\n",
       "2 0.363478 0.353739 0.696087 0.2485390 131     670        801\n",
       "3 0.196364 0.189405 0.437273 0.2483090 120    1229       1349\n",
       "4 0.200000 0.212122 0.590435 0.1602960 108    1454       1562\n",
       "5 0.226957 0.229270 0.436957 0.1869000  82    1518       1600\n",
       "6 0.204348 0.233209 0.518261 0.0895652  88    1518       1606"
      ]
     },
     "metadata": {},
     "output_type": "display_data"
    }
   ],
   "source": [
    "data = read.csv(\"day.csv\")\n",
    "head(data)"
   ]
  },
  {
   "cell_type": "code",
   "execution_count": 297,
   "metadata": {},
   "outputs": [
    {
     "data": {
      "text/plain": [
       "    instant             dteday        season            yr        \n",
       " Min.   :  1.0   2011-01-01:  1   Min.   :1.000   Min.   :0.0000  \n",
       " 1st Qu.:183.5   2011-01-02:  1   1st Qu.:2.000   1st Qu.:0.0000  \n",
       " Median :366.0   2011-01-03:  1   Median :3.000   Median :1.0000  \n",
       " Mean   :366.0   2011-01-04:  1   Mean   :2.497   Mean   :0.5007  \n",
       " 3rd Qu.:548.5   2011-01-05:  1   3rd Qu.:3.000   3rd Qu.:1.0000  \n",
       " Max.   :731.0   2011-01-06:  1   Max.   :4.000   Max.   :1.0000  \n",
       "                 (Other)   :725                                   \n",
       "      mnth          holiday           weekday        workingday   \n",
       " Min.   : 1.00   Min.   :0.00000   Min.   :0.000   Min.   :0.000  \n",
       " 1st Qu.: 4.00   1st Qu.:0.00000   1st Qu.:1.000   1st Qu.:0.000  \n",
       " Median : 7.00   Median :0.00000   Median :3.000   Median :1.000  \n",
       " Mean   : 6.52   Mean   :0.02873   Mean   :2.997   Mean   :0.684  \n",
       " 3rd Qu.:10.00   3rd Qu.:0.00000   3rd Qu.:5.000   3rd Qu.:1.000  \n",
       " Max.   :12.00   Max.   :1.00000   Max.   :6.000   Max.   :1.000  \n",
       "                                                                  \n",
       "   weathersit         temp             atemp              hum        \n",
       " Min.   :1.000   Min.   :0.05913   Min.   :0.07907   Min.   :0.0000  \n",
       " 1st Qu.:1.000   1st Qu.:0.33708   1st Qu.:0.33784   1st Qu.:0.5200  \n",
       " Median :1.000   Median :0.49833   Median :0.48673   Median :0.6267  \n",
       " Mean   :1.395   Mean   :0.49538   Mean   :0.47435   Mean   :0.6279  \n",
       " 3rd Qu.:2.000   3rd Qu.:0.65542   3rd Qu.:0.60860   3rd Qu.:0.7302  \n",
       " Max.   :3.000   Max.   :0.86167   Max.   :0.84090   Max.   :0.9725  \n",
       "                                                                     \n",
       "   windspeed           casual         registered        cnt      \n",
       " Min.   :0.02239   Min.   :   2.0   Min.   :  20   Min.   :  22  \n",
       " 1st Qu.:0.13495   1st Qu.: 315.5   1st Qu.:2497   1st Qu.:3152  \n",
       " Median :0.18097   Median : 713.0   Median :3662   Median :4548  \n",
       " Mean   :0.19049   Mean   : 848.2   Mean   :3656   Mean   :4504  \n",
       " 3rd Qu.:0.23321   3rd Qu.:1096.0   3rd Qu.:4776   3rd Qu.:5956  \n",
       " Max.   :0.50746   Max.   :3410.0   Max.   :6946   Max.   :8714  \n",
       "                                                                 "
      ]
     },
     "metadata": {},
     "output_type": "display_data"
    }
   ],
   "source": [
    "summary(data)"
   ]
  },
  {
   "cell_type": "code",
   "execution_count": 298,
   "metadata": {},
   "outputs": [
    {
     "data": {
      "text/html": [
       "<table>\n",
       "<thead><tr><th scope=col>temp</th><th scope=col>atemp</th><th scope=col>hum</th><th scope=col>windspeed</th><th scope=col>registered</th><th scope=col>casual</th><th scope=col>cnt</th></tr></thead>\n",
       "<tbody>\n",
       "\t<tr><td>0.344167 </td><td>0.363625 </td><td>0.805833 </td><td>0.1604460</td><td> 654     </td><td>331      </td><td> 985     </td></tr>\n",
       "\t<tr><td>0.363478 </td><td>0.353739 </td><td>0.696087 </td><td>0.2485390</td><td> 670     </td><td>131      </td><td> 801     </td></tr>\n",
       "\t<tr><td>0.196364 </td><td>0.189405 </td><td>0.437273 </td><td>0.2483090</td><td>1229     </td><td>120      </td><td>1349     </td></tr>\n",
       "\t<tr><td>0.200000 </td><td>0.212122 </td><td>0.590435 </td><td>0.1602960</td><td>1454     </td><td>108      </td><td>1562     </td></tr>\n",
       "\t<tr><td>0.226957 </td><td>0.229270 </td><td>0.436957 </td><td>0.1869000</td><td>1518     </td><td> 82      </td><td>1600     </td></tr>\n",
       "\t<tr><td>0.204348 </td><td>0.233209 </td><td>0.518261 </td><td>0.0895652</td><td>1518     </td><td> 88      </td><td>1606     </td></tr>\n",
       "</tbody>\n",
       "</table>\n"
      ],
      "text/latex": [
       "\\begin{tabular}{r|lllllll}\n",
       " temp & atemp & hum & windspeed & registered & casual & cnt\\\\\n",
       "\\hline\n",
       "\t 0.344167  & 0.363625  & 0.805833  & 0.1604460 &  654      & 331       &  985     \\\\\n",
       "\t 0.363478  & 0.353739  & 0.696087  & 0.2485390 &  670      & 131       &  801     \\\\\n",
       "\t 0.196364  & 0.189405  & 0.437273  & 0.2483090 & 1229      & 120       & 1349     \\\\\n",
       "\t 0.200000  & 0.212122  & 0.590435  & 0.1602960 & 1454      & 108       & 1562     \\\\\n",
       "\t 0.226957  & 0.229270  & 0.436957  & 0.1869000 & 1518      &  82       & 1600     \\\\\n",
       "\t 0.204348  & 0.233209  & 0.518261  & 0.0895652 & 1518      &  88       & 1606     \\\\\n",
       "\\end{tabular}\n"
      ],
      "text/markdown": [
       "\n",
       "temp | atemp | hum | windspeed | registered | casual | cnt | \n",
       "|---|---|---|---|---|---|\n",
       "| 0.344167  | 0.363625  | 0.805833  | 0.1604460 |  654      | 331       |  985      | \n",
       "| 0.363478  | 0.353739  | 0.696087  | 0.2485390 |  670      | 131       |  801      | \n",
       "| 0.196364  | 0.189405  | 0.437273  | 0.2483090 | 1229      | 120       | 1349      | \n",
       "| 0.200000  | 0.212122  | 0.590435  | 0.1602960 | 1454      | 108       | 1562      | \n",
       "| 0.226957  | 0.229270  | 0.436957  | 0.1869000 | 1518      |  82       | 1600      | \n",
       "| 0.204348  | 0.233209  | 0.518261  | 0.0895652 | 1518      |  88       | 1606      | \n",
       "\n",
       "\n"
      ],
      "text/plain": [
       "  temp     atemp    hum      windspeed registered casual cnt \n",
       "1 0.344167 0.363625 0.805833 0.1604460  654       331     985\n",
       "2 0.363478 0.353739 0.696087 0.2485390  670       131     801\n",
       "3 0.196364 0.189405 0.437273 0.2483090 1229       120    1349\n",
       "4 0.200000 0.212122 0.590435 0.1602960 1454       108    1562\n",
       "5 0.226957 0.229270 0.436957 0.1869000 1518        82    1600\n",
       "6 0.204348 0.233209 0.518261 0.0895652 1518        88    1606"
      ]
     },
     "metadata": {},
     "output_type": "display_data"
    }
   ],
   "source": [
    "keeps <- c(\"temp\", \"atemp\",  \"hum\", \"windspeed\", \"registered\", \"casual\", \"cnt\")\n",
    "df = data[keeps]\n",
    "head(df)"
   ]
  },
  {
   "cell_type": "markdown",
   "metadata": {},
   "source": [
    "#### Normalizacja"
   ]
  },
  {
   "cell_type": "code",
   "execution_count": 318,
   "metadata": {},
   "outputs": [
    {
     "data": {
      "text/html": [
       "<table>\n",
       "<thead><tr><th scope=col>temp</th><th scope=col>atemp</th><th scope=col>hum</th><th scope=col>windspeed</th><th scope=col>registered</th><th scope=col>casual</th><th scope=col>cnt</th><th scope=col>season</th></tr></thead>\n",
       "<tbody>\n",
       "\t<tr><td>3.949587e-05</td><td>4.172883e-05</td><td>9.247567e-05</td><td>1.841244e-05</td><td>0.07505164  </td><td>0.037984852 </td><td> 985        </td><td>1           </td></tr>\n",
       "\t<tr><td>4.171196e-05</td><td>4.059433e-05</td><td>7.988146e-05</td><td>2.852180e-05</td><td>0.07688777  </td><td>0.015033280 </td><td> 801        </td><td>1           </td></tr>\n",
       "\t<tr><td>2.253431e-05</td><td>2.173571e-05</td><td>5.018051e-05</td><td>2.849541e-05</td><td>0.14103741  </td><td>0.013770943 </td><td>1349        </td><td>1           </td></tr>\n",
       "\t<tr><td>2.295157e-05</td><td>2.434267e-05</td><td>6.775706e-05</td><td>1.839523e-05</td><td>0.16685793  </td><td>0.012393849 </td><td>1562        </td><td>1           </td></tr>\n",
       "\t<tr><td>2.604510e-05</td><td>2.631053e-05</td><td>5.014425e-05</td><td>2.144824e-05</td><td>0.17420243  </td><td>0.009410145 </td><td>1600        </td><td>1           </td></tr>\n",
       "\t<tr><td>2.345054e-05</td><td>2.676257e-05</td><td>5.947452e-05</td><td>1.027831e-05</td><td>0.17420243  </td><td>0.010098692 </td><td>1606        </td><td>1           </td></tr>\n",
       "</tbody>\n",
       "</table>\n"
      ],
      "text/latex": [
       "\\begin{tabular}{r|llllllll}\n",
       " temp & atemp & hum & windspeed & registered & casual & cnt & season\\\\\n",
       "\\hline\n",
       "\t 3.949587e-05 & 4.172883e-05 & 9.247567e-05 & 1.841244e-05 & 0.07505164   & 0.037984852  &  985         & 1           \\\\\n",
       "\t 4.171196e-05 & 4.059433e-05 & 7.988146e-05 & 2.852180e-05 & 0.07688777   & 0.015033280  &  801         & 1           \\\\\n",
       "\t 2.253431e-05 & 2.173571e-05 & 5.018051e-05 & 2.849541e-05 & 0.14103741   & 0.013770943  & 1349         & 1           \\\\\n",
       "\t 2.295157e-05 & 2.434267e-05 & 6.775706e-05 & 1.839523e-05 & 0.16685793   & 0.012393849  & 1562         & 1           \\\\\n",
       "\t 2.604510e-05 & 2.631053e-05 & 5.014425e-05 & 2.144824e-05 & 0.17420243   & 0.009410145  & 1600         & 1           \\\\\n",
       "\t 2.345054e-05 & 2.676257e-05 & 5.947452e-05 & 1.027831e-05 & 0.17420243   & 0.010098692  & 1606         & 1           \\\\\n",
       "\\end{tabular}\n"
      ],
      "text/markdown": [
       "\n",
       "temp | atemp | hum | windspeed | registered | casual | cnt | season | \n",
       "|---|---|---|---|---|---|\n",
       "| 3.949587e-05 | 4.172883e-05 | 9.247567e-05 | 1.841244e-05 | 0.07505164   | 0.037984852  |  985         | 1            | \n",
       "| 4.171196e-05 | 4.059433e-05 | 7.988146e-05 | 2.852180e-05 | 0.07688777   | 0.015033280  |  801         | 1            | \n",
       "| 2.253431e-05 | 2.173571e-05 | 5.018051e-05 | 2.849541e-05 | 0.14103741   | 0.013770943  | 1349         | 1            | \n",
       "| 2.295157e-05 | 2.434267e-05 | 6.775706e-05 | 1.839523e-05 | 0.16685793   | 0.012393849  | 1562         | 1            | \n",
       "| 2.604510e-05 | 2.631053e-05 | 5.014425e-05 | 2.144824e-05 | 0.17420243   | 0.009410145  | 1600         | 1            | \n",
       "| 2.345054e-05 | 2.676257e-05 | 5.947452e-05 | 1.027831e-05 | 0.17420243   | 0.010098692  | 1606         | 1            | \n",
       "\n",
       "\n"
      ],
      "text/plain": [
       "  temp         atemp        hum          windspeed    registered casual     \n",
       "1 3.949587e-05 4.172883e-05 9.247567e-05 1.841244e-05 0.07505164 0.037984852\n",
       "2 4.171196e-05 4.059433e-05 7.988146e-05 2.852180e-05 0.07688777 0.015033280\n",
       "3 2.253431e-05 2.173571e-05 5.018051e-05 2.849541e-05 0.14103741 0.013770943\n",
       "4 2.295157e-05 2.434267e-05 6.775706e-05 1.839523e-05 0.16685793 0.012393849\n",
       "5 2.604510e-05 2.631053e-05 5.014425e-05 2.144824e-05 0.17420243 0.009410145\n",
       "6 2.345054e-05 2.676257e-05 5.947452e-05 1.027831e-05 0.17420243 0.010098692\n",
       "  cnt  season\n",
       "1  985 1     \n",
       "2  801 1     \n",
       "3 1349 1     \n",
       "4 1562 1     \n",
       "5 1600 1     \n",
       "6 1606 1     "
      ]
     },
     "metadata": {},
     "output_type": "display_data"
    }
   ],
   "source": [
    "x <- df\n",
    "normalized = (x-min(x))/(max(x)-min(x))\n",
    "normalized = data.frame(normalized, 'season' = data$season)\n",
    "normalized$cnt = data$cnt\n",
    "head(normalized)"
   ]
  },
  {
   "cell_type": "code",
   "execution_count": 300,
   "metadata": {},
   "outputs": [],
   "source": [
    "write.csv(normalized, file = \"day_normalized.csv\")"
   ]
  },
  {
   "cell_type": "markdown",
   "metadata": {},
   "source": [
    "### Standaryzacja"
   ]
  },
  {
   "cell_type": "code",
   "execution_count": 261,
   "metadata": {},
   "outputs": [
    {
     "data": {
      "text/plain": [
       "      temp              atemp               hum              windspeed      \n",
       " Min.   :-2.38324   Min.   :-2.42564   Min.   :-4.408468   Min.   :-2.1690  \n",
       " 1st Qu.:-0.86479   1st Qu.:-0.83769   1st Qu.:-0.757528   1st Qu.:-0.7166  \n",
       " Median : 0.01611   Median : 0.07596   Median :-0.008615   Median :-0.1227  \n",
       " Mean   : 0.00000   Mean   : 0.00000   Mean   : 0.000000   Mean   : 0.0000  \n",
       " 3rd Qu.: 0.87425   3rd Qu.: 0.82380   3rd Qu.: 0.718353   3rd Qu.: 0.5513  \n",
       " Max.   : 2.00098   Max.   : 2.24926   Max.   : 2.419491   Max.   : 4.0901  \n",
       "   registered            casual             cnt           season     \n",
       " Min.   :-2.330497   Min.   :-1.2324   Min.   :  22   Min.   :1.000  \n",
       " 1st Qu.:-0.742937   1st Qu.:-0.7758   1st Qu.:3152   1st Qu.:2.000  \n",
       " Median : 0.003735   Median :-0.1969   Median :4548   Median :3.000  \n",
       " Mean   : 0.000000   Mean   : 0.0000   Mean   :4504   Mean   :2.497  \n",
       " 3rd Qu.: 0.718041   3rd Qu.: 0.3609   3rd Qu.:5956   3rd Qu.:3.000  \n",
       " Max.   : 2.108517   Max.   : 3.7311   Max.   :8714   Max.   :4.000  "
      ]
     },
     "metadata": {},
     "output_type": "display_data"
    }
   ],
   "source": [
    "library(psycho)\n",
    "library(tidyverse)\n",
    "\n",
    "stnd <- df %>% \n",
    "  psycho::standardize() \n",
    "\n",
    "stnd = data.frame(stnd, 'season' = data$season)\n",
    "stnd$cnt = data$cnt\n",
    "summary(stnd)"
   ]
  },
  {
   "cell_type": "code",
   "execution_count": 262,
   "metadata": {},
   "outputs": [
    {
     "data": {
      "text/html": [
       "<table>\n",
       "<thead><tr><th scope=col>temp</th><th scope=col>atemp</th><th scope=col>hum</th><th scope=col>windspeed</th><th scope=col>registered</th><th scope=col>casual</th><th scope=col>cnt</th><th scope=col>season</th></tr></thead>\n",
       "<tbody>\n",
       "\t<tr><td>-0.8260965 </td><td>-0.6794808 </td><td> 1.2493159 </td><td>-0.38762628</td><td>-1.924153  </td><td>-0.7532181 </td><td> 985       </td><td>1          </td></tr>\n",
       "\t<tr><td>-0.7206013 </td><td>-0.7401455 </td><td> 0.4787852 </td><td> 0.74908882</td><td>-1.913899  </td><td>-1.0444990 </td><td> 801       </td><td>1          </td></tr>\n",
       "\t<tr><td>-1.6335382 </td><td>-1.7485698 </td><td>-1.3383576 </td><td> 0.74612099</td><td>-1.555624  </td><td>-1.0605194 </td><td>1349       </td><td>1          </td></tr>\n",
       "\t<tr><td>-1.6136748 </td><td>-1.6091685 </td><td>-0.2630015 </td><td>-0.38956182</td><td>-1.411417  </td><td>-1.0779963 </td><td>1562       </td><td>1          </td></tr>\n",
       "\t<tr><td>-1.4664099 </td><td>-1.5039409 </td><td>-1.3405763 </td><td>-0.04627497</td><td>-1.370398  </td><td>-1.1158628 </td><td>1600       </td><td>1          </td></tr>\n",
       "\t<tr><td>-1.5899219 </td><td>-1.4797695 </td><td>-0.7697378 </td><td>-1.30224238</td><td>-1.370398  </td><td>-1.1071243 </td><td>1606       </td><td>1          </td></tr>\n",
       "</tbody>\n",
       "</table>\n"
      ],
      "text/latex": [
       "\\begin{tabular}{r|llllllll}\n",
       " temp & atemp & hum & windspeed & registered & casual & cnt & season\\\\\n",
       "\\hline\n",
       "\t -0.8260965  & -0.6794808  &  1.2493159  & -0.38762628 & -1.924153   & -0.7532181  &  985        & 1          \\\\\n",
       "\t -0.7206013  & -0.7401455  &  0.4787852  &  0.74908882 & -1.913899   & -1.0444990  &  801        & 1          \\\\\n",
       "\t -1.6335382  & -1.7485698  & -1.3383576  &  0.74612099 & -1.555624   & -1.0605194  & 1349        & 1          \\\\\n",
       "\t -1.6136748  & -1.6091685  & -0.2630015  & -0.38956182 & -1.411417   & -1.0779963  & 1562        & 1          \\\\\n",
       "\t -1.4664099  & -1.5039409  & -1.3405763  & -0.04627497 & -1.370398   & -1.1158628  & 1600        & 1          \\\\\n",
       "\t -1.5899219  & -1.4797695  & -0.7697378  & -1.30224238 & -1.370398   & -1.1071243  & 1606        & 1          \\\\\n",
       "\\end{tabular}\n"
      ],
      "text/markdown": [
       "\n",
       "temp | atemp | hum | windspeed | registered | casual | cnt | season | \n",
       "|---|---|---|---|---|---|\n",
       "| -0.8260965  | -0.6794808  |  1.2493159  | -0.38762628 | -1.924153   | -0.7532181  |  985        | 1           | \n",
       "| -0.7206013  | -0.7401455  |  0.4787852  |  0.74908882 | -1.913899   | -1.0444990  |  801        | 1           | \n",
       "| -1.6335382  | -1.7485698  | -1.3383576  |  0.74612099 | -1.555624   | -1.0605194  | 1349        | 1           | \n",
       "| -1.6136748  | -1.6091685  | -0.2630015  | -0.38956182 | -1.411417   | -1.0779963  | 1562        | 1           | \n",
       "| -1.4664099  | -1.5039409  | -1.3405763  | -0.04627497 | -1.370398   | -1.1158628  | 1600        | 1           | \n",
       "| -1.5899219  | -1.4797695  | -0.7697378  | -1.30224238 | -1.370398   | -1.1071243  | 1606        | 1           | \n",
       "\n",
       "\n"
      ],
      "text/plain": [
       "  temp       atemp      hum        windspeed   registered casual     cnt \n",
       "1 -0.8260965 -0.6794808  1.2493159 -0.38762628 -1.924153  -0.7532181  985\n",
       "2 -0.7206013 -0.7401455  0.4787852  0.74908882 -1.913899  -1.0444990  801\n",
       "3 -1.6335382 -1.7485698 -1.3383576  0.74612099 -1.555624  -1.0605194 1349\n",
       "4 -1.6136748 -1.6091685 -0.2630015 -0.38956182 -1.411417  -1.0779963 1562\n",
       "5 -1.4664099 -1.5039409 -1.3405763 -0.04627497 -1.370398  -1.1158628 1600\n",
       "6 -1.5899219 -1.4797695 -0.7697378 -1.30224238 -1.370398  -1.1071243 1606\n",
       "  season\n",
       "1 1     \n",
       "2 1     \n",
       "3 1     \n",
       "4 1     \n",
       "5 1     \n",
       "6 1     "
      ]
     },
     "metadata": {},
     "output_type": "display_data"
    }
   ],
   "source": [
    "head(stnd)"
   ]
  },
  {
   "cell_type": "code",
   "execution_count": 263,
   "metadata": {},
   "outputs": [],
   "source": [
    "write.csv(normalized, file = \"day_stnd.csv\")"
   ]
  },
  {
   "cell_type": "markdown",
   "metadata": {},
   "source": [
    "## Macierz korelacji"
   ]
  },
  {
   "cell_type": "code",
   "execution_count": 264,
   "metadata": {},
   "outputs": [
    {
     "data": {
      "text/html": [
       "<table>\n",
       "<thead><tr><th></th><th scope=col>temp</th><th scope=col>atemp</th><th scope=col>hum</th><th scope=col>windspeed</th><th scope=col>registered</th><th scope=col>casual</th><th scope=col>cnt</th></tr></thead>\n",
       "<tbody>\n",
       "\t<tr><th scope=row>temp</th><td> 1.0000000 </td><td> 0.9917016 </td><td> 0.12696294</td><td>-0.1579441 </td><td> 0.5400120 </td><td> 0.54328466</td><td> 0.6274940 </td></tr>\n",
       "\t<tr><th scope=row>atemp</th><td> 0.9917016 </td><td> 1.0000000 </td><td> 0.13998806</td><td>-0.1836430 </td><td> 0.5441918 </td><td> 0.54386369</td><td> 0.6310657 </td></tr>\n",
       "\t<tr><th scope=row>hum</th><td> 0.1269629 </td><td> 0.1399881 </td><td> 1.00000000</td><td>-0.2484891 </td><td>-0.0910886 </td><td>-0.07700788</td><td>-0.1006586 </td></tr>\n",
       "\t<tr><th scope=row>windspeed</th><td>-0.1579441 </td><td>-0.1836430 </td><td>-0.24848910</td><td> 1.0000000 </td><td>-0.2174490 </td><td>-0.16761335</td><td>-0.2345450 </td></tr>\n",
       "\t<tr><th scope=row>registered</th><td> 0.5400120 </td><td> 0.5441918 </td><td>-0.09108860</td><td>-0.2174490 </td><td> 1.0000000 </td><td> 0.39528245</td><td> 0.9455169 </td></tr>\n",
       "\t<tr><th scope=row>casual</th><td> 0.5432847 </td><td> 0.5438637 </td><td>-0.07700788</td><td>-0.1676133 </td><td> 0.3952825 </td><td> 1.00000000</td><td> 0.6728044 </td></tr>\n",
       "\t<tr><th scope=row>cnt</th><td> 0.6274940 </td><td> 0.6310657 </td><td>-0.10065856</td><td>-0.2345450 </td><td> 0.9455169 </td><td> 0.67280443</td><td> 1.0000000 </td></tr>\n",
       "</tbody>\n",
       "</table>\n"
      ],
      "text/latex": [
       "\\begin{tabular}{r|lllllll}\n",
       "  & temp & atemp & hum & windspeed & registered & casual & cnt\\\\\n",
       "\\hline\n",
       "\ttemp &  1.0000000  &  0.9917016  &  0.12696294 & -0.1579441  &  0.5400120  &  0.54328466 &  0.6274940 \\\\\n",
       "\tatemp &  0.9917016  &  1.0000000  &  0.13998806 & -0.1836430  &  0.5441918  &  0.54386369 &  0.6310657 \\\\\n",
       "\thum &  0.1269629  &  0.1399881  &  1.00000000 & -0.2484891  & -0.0910886  & -0.07700788 & -0.1006586 \\\\\n",
       "\twindspeed & -0.1579441  & -0.1836430  & -0.24848910 &  1.0000000  & -0.2174490  & -0.16761335 & -0.2345450 \\\\\n",
       "\tregistered &  0.5400120  &  0.5441918  & -0.09108860 & -0.2174490  &  1.0000000  &  0.39528245 &  0.9455169 \\\\\n",
       "\tcasual &  0.5432847  &  0.5438637  & -0.07700788 & -0.1676133  &  0.3952825  &  1.00000000 &  0.6728044 \\\\\n",
       "\tcnt &  0.6274940  &  0.6310657  & -0.10065856 & -0.2345450  &  0.9455169  &  0.67280443 &  1.0000000 \\\\\n",
       "\\end{tabular}\n"
      ],
      "text/markdown": [
       "\n",
       "| <!--/--> | temp | atemp | hum | windspeed | registered | casual | cnt | \n",
       "|---|---|---|---|---|---|---|\n",
       "| temp |  1.0000000  |  0.9917016  |  0.12696294 | -0.1579441  |  0.5400120  |  0.54328466 |  0.6274940  | \n",
       "| atemp |  0.9917016  |  1.0000000  |  0.13998806 | -0.1836430  |  0.5441918  |  0.54386369 |  0.6310657  | \n",
       "| hum |  0.1269629  |  0.1399881  |  1.00000000 | -0.2484891  | -0.0910886  | -0.07700788 | -0.1006586  | \n",
       "| windspeed | -0.1579441  | -0.1836430  | -0.24848910 |  1.0000000  | -0.2174490  | -0.16761335 | -0.2345450  | \n",
       "| registered |  0.5400120  |  0.5441918  | -0.09108860 | -0.2174490  |  1.0000000  |  0.39528245 |  0.9455169  | \n",
       "| casual |  0.5432847  |  0.5438637  | -0.07700788 | -0.1676133  |  0.3952825  |  1.00000000 |  0.6728044  | \n",
       "| cnt |  0.6274940  |  0.6310657  | -0.10065856 | -0.2345450  |  0.9455169  |  0.67280443 |  1.0000000  | \n",
       "\n",
       "\n"
      ],
      "text/plain": [
       "           temp       atemp      hum         windspeed  registered casual     \n",
       "temp        1.0000000  0.9917016  0.12696294 -0.1579441  0.5400120  0.54328466\n",
       "atemp       0.9917016  1.0000000  0.13998806 -0.1836430  0.5441918  0.54386369\n",
       "hum         0.1269629  0.1399881  1.00000000 -0.2484891 -0.0910886 -0.07700788\n",
       "windspeed  -0.1579441 -0.1836430 -0.24848910  1.0000000 -0.2174490 -0.16761335\n",
       "registered  0.5400120  0.5441918 -0.09108860 -0.2174490  1.0000000  0.39528245\n",
       "casual      0.5432847  0.5438637 -0.07700788 -0.1676133  0.3952825  1.00000000\n",
       "cnt         0.6274940  0.6310657 -0.10065856 -0.2345450  0.9455169  0.67280443\n",
       "           cnt       \n",
       "temp        0.6274940\n",
       "atemp       0.6310657\n",
       "hum        -0.1006586\n",
       "windspeed  -0.2345450\n",
       "registered  0.9455169\n",
       "casual      0.6728044\n",
       "cnt         1.0000000"
      ]
     },
     "metadata": {},
     "output_type": "display_data"
    }
   ],
   "source": [
    "cor(df)"
   ]
  },
  {
   "cell_type": "markdown",
   "metadata": {},
   "source": [
    "## Histogramy dla wartości znormalizowanych"
   ]
  },
  {
   "cell_type": "code",
   "execution_count": 265,
   "metadata": {},
   "outputs": [
    {
     "data": {
      "image/png": "[encoded data removed]",
      "text/plain": [
       "Plot with title \"Histogram of normalized$cnt\""
      ]
     },
     "metadata": {},
     "output_type": "display_data"
    }
   ],
   "source": [
    "par(mfrow = c(3,2))\n",
    "\n",
    "hist(normalized$temp, xlab = 'temp')\n",
    "hist(normalized$hum, xlab = 'hum')\n",
    "hist(normalized$atemp, xlab = 'atemp')\n",
    "hist(normalized$windspeed, xlab = 'wind speed')\n",
    "hist(normalized$season, xlab = 'season')\n",
    "hist(normalized$cnt, xlab = 'total count')"
   ]
  },
  {
   "cell_type": "markdown",
   "metadata": {},
   "source": [
    "## Histogramy dla standaryzacji"
   ]
  },
  {
   "cell_type": "code",
   "execution_count": 266,
   "metadata": {},
   "outputs": [
    {
     "data": {
      "image/png": "[encoded data removed]",
      "text/plain": [
       "Plot with title \"Ilosc wypozyczonych rowerów\""
      ]
     },
     "metadata": {},
     "output_type": "display_data"
    }
   ],
   "source": [
    "par(mfrow = c(3,2))\n",
    "\n",
    "hist(stnd$temp, xlab = 'temp', main = \"Temperatura\")\n",
    "hist(stnd$hum, xlab = 'hum', main = 'Wilgotność')\n",
    "hist(stnd$atemp, xlab = 'atemp', main = 'Temperatura odczuwalna')\n",
    "hist(stnd$windspeed, xlab = 'wind speed', main = 'Siła wiatru')\n",
    "hist(stnd$season, xlab = 'season',main = 'Pora roku')\n",
    "hist(stnd$cnt, xlab = 'total count', main = 'Ilość wypożyczonych rowerów')"
   ]
  },
  {
   "cell_type": "markdown",
   "metadata": {},
   "source": [
    "## Dodaje kolumnę z procentowym udziałem zarejestrowanych userów w całości cnt wypozyczonych rowerow"
   ]
  },
  {
   "cell_type": "code",
   "execution_count": 267,
   "metadata": {},
   "outputs": [
    {
     "data": {
      "text/html": [
       "<table>\n",
       "<thead><tr><th scope=col>temp</th><th scope=col>atemp</th><th scope=col>hum</th><th scope=col>windspeed</th><th scope=col>registered</th><th scope=col>cnt</th><th scope=col>season</th></tr></thead>\n",
       "<tbody>\n",
       "\t<tr><td>3.949587e-05</td><td>4.172883e-05</td><td>9.247567e-05</td><td>1.841244e-05</td><td>7.619456e-05</td><td> 985        </td><td>1           </td></tr>\n",
       "\t<tr><td>4.171196e-05</td><td>4.059433e-05</td><td>7.988146e-05</td><td>2.852180e-05</td><td>9.598972e-05</td><td> 801        </td><td>1           </td></tr>\n",
       "\t<tr><td>2.253431e-05</td><td>2.173571e-05</td><td>5.018051e-05</td><td>2.849541e-05</td><td>1.045496e-04</td><td>1349        </td><td>1           </td></tr>\n",
       "\t<tr><td>2.295157e-05</td><td>2.434267e-05</td><td>6.775706e-05</td><td>1.839523e-05</td><td>1.068233e-04</td><td>1562        </td><td>1           </td></tr>\n",
       "\t<tr><td>2.604510e-05</td><td>2.631053e-05</td><td>5.014425e-05</td><td>2.144824e-05</td><td>1.088765e-04</td><td>1600        </td><td>1           </td></tr>\n",
       "\t<tr><td>2.345054e-05</td><td>2.676257e-05</td><td>5.947452e-05</td><td>1.027831e-05</td><td>1.084698e-04</td><td>1606        </td><td>1           </td></tr>\n",
       "</tbody>\n",
       "</table>\n"
      ],
      "text/latex": [
       "\\begin{tabular}{r|lllllll}\n",
       " temp & atemp & hum & windspeed & registered & cnt & season\\\\\n",
       "\\hline\n",
       "\t 3.949587e-05 & 4.172883e-05 & 9.247567e-05 & 1.841244e-05 & 7.619456e-05 &  985         & 1           \\\\\n",
       "\t 4.171196e-05 & 4.059433e-05 & 7.988146e-05 & 2.852180e-05 & 9.598972e-05 &  801         & 1           \\\\\n",
       "\t 2.253431e-05 & 2.173571e-05 & 5.018051e-05 & 2.849541e-05 & 1.045496e-04 & 1349         & 1           \\\\\n",
       "\t 2.295157e-05 & 2.434267e-05 & 6.775706e-05 & 1.839523e-05 & 1.068233e-04 & 1562         & 1           \\\\\n",
       "\t 2.604510e-05 & 2.631053e-05 & 5.014425e-05 & 2.144824e-05 & 1.088765e-04 & 1600         & 1           \\\\\n",
       "\t 2.345054e-05 & 2.676257e-05 & 5.947452e-05 & 1.027831e-05 & 1.084698e-04 & 1606         & 1           \\\\\n",
       "\\end{tabular}\n"
      ],
      "text/markdown": [
       "\n",
       "temp | atemp | hum | windspeed | registered | cnt | season | \n",
       "|---|---|---|---|---|---|\n",
       "| 3.949587e-05 | 4.172883e-05 | 9.247567e-05 | 1.841244e-05 | 7.619456e-05 |  985         | 1            | \n",
       "| 4.171196e-05 | 4.059433e-05 | 7.988146e-05 | 2.852180e-05 | 9.598972e-05 |  801         | 1            | \n",
       "| 2.253431e-05 | 2.173571e-05 | 5.018051e-05 | 2.849541e-05 | 1.045496e-04 | 1349         | 1            | \n",
       "| 2.295157e-05 | 2.434267e-05 | 6.775706e-05 | 1.839523e-05 | 1.068233e-04 | 1562         | 1            | \n",
       "| 2.604510e-05 | 2.631053e-05 | 5.014425e-05 | 2.144824e-05 | 1.088765e-04 | 1600         | 1            | \n",
       "| 2.345054e-05 | 2.676257e-05 | 5.947452e-05 | 1.027831e-05 | 1.084698e-04 | 1606         | 1            | \n",
       "\n",
       "\n"
      ],
      "text/plain": [
       "  temp         atemp        hum          windspeed    registered   cnt  season\n",
       "1 3.949587e-05 4.172883e-05 9.247567e-05 1.841244e-05 7.619456e-05  985 1     \n",
       "2 4.171196e-05 4.059433e-05 7.988146e-05 2.852180e-05 9.598972e-05  801 1     \n",
       "3 2.253431e-05 2.173571e-05 5.018051e-05 2.849541e-05 1.045496e-04 1349 1     \n",
       "4 2.295157e-05 2.434267e-05 6.775706e-05 1.839523e-05 1.068233e-04 1562 1     \n",
       "5 2.604510e-05 2.631053e-05 5.014425e-05 2.144824e-05 1.088765e-04 1600 1     \n",
       "6 2.345054e-05 2.676257e-05 5.947452e-05 1.027831e-05 1.084698e-04 1606 1     "
      ]
     },
     "metadata": {},
     "output_type": "display_data"
    }
   ],
   "source": [
    "data_to_add_column <- normalized\n",
    "\n",
    "data_p <- data.frame(data_to_add_column, 'registered' = (data_to_add_column$registered / data_to_add_column$cnt))\n",
    "data_p$registered = data_p$registered.1\n",
    "keeps <- c(\"temp\",\"atemp\",  \"hum\", \"windspeed\", \"registered\", \"cnt\", \"season\")\n",
    "data_p = data_p[keeps]\n",
    "head(data_p)"
   ]
  },
  {
   "cell_type": "code",
   "execution_count": 268,
   "metadata": {},
   "outputs": [],
   "source": [
    "write.csv(data_p, file = \"day_with_registered_percent\")"
   ]
  },
  {
   "cell_type": "markdown",
   "metadata": {},
   "source": [
    "## Wartości odstające"
   ]
  },
  {
   "cell_type": "code",
   "execution_count": 269,
   "metadata": {},
   "outputs": [
    {
     "data": {
      "text/html": [
       "<table>\n",
       "<thead><tr><th></th><th scope=col>temp</th><th scope=col>atemp</th><th scope=col>hum</th><th scope=col>windspeed</th><th scope=col>registered</th><th scope=col>cnt</th><th scope=col>season</th></tr></thead>\n",
       "<tbody>\n",
       "\t<tr><th scope=row>726</th><td>2.792437e-05</td><td>2.528494e-05</td><td>9.448393e-05</td><td>3.632614e-05</td><td>1.124159e-04</td><td> 441        </td><td>1           </td></tr>\n",
       "\t<tr><th scope=row>727</th><td>2.916766e-05</td><td>2.600895e-05</td><td>7.492736e-05</td><td>4.018051e-05</td><td>1.013495e-04</td><td>2114        </td><td>1           </td></tr>\n",
       "\t<tr><th scope=row>728</th><td>2.907195e-05</td><td>2.926853e-05</td><td>6.770714e-05</td><td>1.784152e-05</td><td>9.087933e-05</td><td>3095        </td><td>1           </td></tr>\n",
       "\t<tr><th scope=row>729</th><td>2.907195e-05</td><td>2.781731e-05</td><td>8.640314e-05</td><td>1.427393e-05</td><td>1.011512e-04</td><td>1341        </td><td>1           </td></tr>\n",
       "\t<tr><th scope=row>730</th><td>2.935885e-05</td><td>2.658940e-05</td><td>5.546626e-05</td><td>4.025178e-05</td><td>9.149959e-05</td><td>1796        </td><td>1           </td></tr>\n",
       "\t<tr><th scope=row>731</th><td>2.476853e-05</td><td>2.564689e-05</td><td>6.627266e-05</td><td>1.776980e-05</td><td>9.629736e-05</td><td>2729        </td><td>1           </td></tr>\n",
       "</tbody>\n",
       "</table>\n"
      ],
      "text/latex": [
       "\\begin{tabular}{r|lllllll}\n",
       "  & temp & atemp & hum & windspeed & registered & cnt & season\\\\\n",
       "\\hline\n",
       "\t726 & 2.792437e-05 & 2.528494e-05 & 9.448393e-05 & 3.632614e-05 & 1.124159e-04 &  441         & 1           \\\\\n",
       "\t727 & 2.916766e-05 & 2.600895e-05 & 7.492736e-05 & 4.018051e-05 & 1.013495e-04 & 2114         & 1           \\\\\n",
       "\t728 & 2.907195e-05 & 2.926853e-05 & 6.770714e-05 & 1.784152e-05 & 9.087933e-05 & 3095         & 1           \\\\\n",
       "\t729 & 2.907195e-05 & 2.781731e-05 & 8.640314e-05 & 1.427393e-05 & 1.011512e-04 & 1341         & 1           \\\\\n",
       "\t730 & 2.935885e-05 & 2.658940e-05 & 5.546626e-05 & 4.025178e-05 & 9.149959e-05 & 1796         & 1           \\\\\n",
       "\t731 & 2.476853e-05 & 2.564689e-05 & 6.627266e-05 & 1.776980e-05 & 9.629736e-05 & 2729         & 1           \\\\\n",
       "\\end{tabular}\n"
      ],
      "text/markdown": [
       "\n",
       "| <!--/--> | temp | atemp | hum | windspeed | registered | cnt | season | \n",
       "|---|---|---|---|---|---|\n",
       "| 726 | 2.792437e-05 | 2.528494e-05 | 9.448393e-05 | 3.632614e-05 | 1.124159e-04 |  441         | 1            | \n",
       "| 727 | 2.916766e-05 | 2.600895e-05 | 7.492736e-05 | 4.018051e-05 | 1.013495e-04 | 2114         | 1            | \n",
       "| 728 | 2.907195e-05 | 2.926853e-05 | 6.770714e-05 | 1.784152e-05 | 9.087933e-05 | 3095         | 1            | \n",
       "| 729 | 2.907195e-05 | 2.781731e-05 | 8.640314e-05 | 1.427393e-05 | 1.011512e-04 | 1341         | 1            | \n",
       "| 730 | 2.935885e-05 | 2.658940e-05 | 5.546626e-05 | 4.025178e-05 | 9.149959e-05 | 1796         | 1            | \n",
       "| 731 | 2.476853e-05 | 2.564689e-05 | 6.627266e-05 | 1.776980e-05 | 9.629736e-05 | 2729         | 1            | \n",
       "\n",
       "\n"
      ],
      "text/plain": [
       "    temp         atemp        hum          windspeed    registered   cnt \n",
       "726 2.792437e-05 2.528494e-05 9.448393e-05 3.632614e-05 1.124159e-04  441\n",
       "727 2.916766e-05 2.600895e-05 7.492736e-05 4.018051e-05 1.013495e-04 2114\n",
       "728 2.907195e-05 2.926853e-05 6.770714e-05 1.784152e-05 9.087933e-05 3095\n",
       "729 2.907195e-05 2.781731e-05 8.640314e-05 1.427393e-05 1.011512e-04 1341\n",
       "730 2.935885e-05 2.658940e-05 5.546626e-05 4.025178e-05 9.149959e-05 1796\n",
       "731 2.476853e-05 2.564689e-05 6.627266e-05 1.776980e-05 9.629736e-05 2729\n",
       "    season\n",
       "726 1     \n",
       "727 1     \n",
       "728 1     \n",
       "729 1     \n",
       "730 1     \n",
       "731 1     "
      ]
     },
     "metadata": {},
     "output_type": "display_data"
    },
    {
     "data": {
      "image/png": "[encoded data removed]",
      "text/plain": [
       "Plot with title \"registered\""
      ]
     },
     "metadata": {},
     "output_type": "display_data"
    }
   ],
   "source": [
    "data_to_draw <- data_p\n",
    "\n",
    "par(mfrow=c(1, 5))\n",
    "\n",
    "boxplot(data_to_draw$hum, main=\"hum\")\n",
    "boxplot(data_to_draw$temp, main=\"temp\")\n",
    "boxplot(data_to_draw$atemp, main=\"atemp\")\n",
    "boxplot(data_to_draw$windspeed, main=\"windspeed\")\n",
    "boxplot(data_to_draw$registered, main=\"registered\")\n",
    "tail(data_p)"
   ]
  },
  {
   "cell_type": "code",
   "execution_count": 270,
   "metadata": {},
   "outputs": [
    {
     "data": {
      "image/png": "[encoded data removed]",
      "text/plain": [
       "Plot with title \"Histogram of data_to_draw$cnt\""
      ]
     },
     "metadata": {},
     "output_type": "display_data"
    }
   ],
   "source": [
    "par(mfrow = c(3,2))\n",
    "\n",
    "hist(data_to_draw$temp, xlab = 'temp')\n",
    "hist(data_to_draw$hum, xlab = 'hum')\n",
    "hist(data_to_draw$atemp, xlab = 'atemp')\n",
    "hist(data_to_draw$windspeed, xlab = 'wind speed')\n",
    "hist(data_to_draw$season, xlab = 'season')\n",
    "hist(data_to_draw$cnt, xlab = 'total count')"
   ]
  },
  {
   "cell_type": "markdown",
   "metadata": {},
   "source": [
    "## DFFITS"
   ]
  },
  {
   "cell_type": "code",
   "execution_count": 323,
   "metadata": {},
   "outputs": [
    {
     "data": {
      "image/png": "[encoded data removed]",
      "text/plain": [
       "plot without title"
      ]
     },
     "metadata": {},
     "output_type": "display_data"
    }
   ],
   "source": [
    "model <- lm(normalized$cnt~normalized$temp + normalized$atemp + normalized$hum + normalized$windspeed + normalized$registered)\n",
    "plot(dffits(model), pch=23, bg='orange', cex=2, ylab=\"DFFITS\")"
   ]
  },
  {
   "cell_type": "markdown",
   "metadata": {},
   "source": [
    "wybranie rekordów z wiekszym od progu"
   ]
  },
  {
   "cell_type": "code",
   "execution_count": 326,
   "metadata": {},
   "outputs": [],
   "source": [
    "x2 <- normalized\n",
    "x2 <- x2[which(abs(dffits(model)) < 0.2),]"
   ]
  },
  {
   "cell_type": "code",
   "execution_count": 328,
   "metadata": {},
   "outputs": [
    {
     "data": {
      "image/png": "[encoded data removed]",
      "text/plain": [
       "plot without title"
      ]
     },
     "metadata": {},
     "output_type": "display_data"
    }
   ],
   "source": [
    "model <- lm(x2$cnt~x2$temp + x2$atemp + x2$hum + x2$windspeed + x2$registered)\n",
    "plot(dffits(model), pch=23, bg='orange', cex=2, ylab=\"DFFITS\")"
   ]
  },
  {
   "cell_type": "code",
   "execution_count": 329,
   "metadata": {},
   "outputs": [
    {
     "name": "stdout",
     "output_type": "stream",
     "text": [
      "[1] 3.967168\n"
     ]
    }
   ],
   "source": [
    "removed_rate <- 100 * (1 - (nrow(x2) / nrow(normalized)))\n",
    "\n",
    "print(removed_rate)"
   ]
  },
  {
   "cell_type": "markdown",
   "metadata": {},
   "source": [
    "Metoda forward"
   ]
  },
  {
   "cell_type": "code",
   "execution_count": 330,
   "metadata": {},
   "outputs": [
    {
     "data": {
      "text/plain": [
       "\n",
       "Call:\n",
       "lm(formula = x2$cnt ~ x2$temp + x2$atemp + x2$hum + x2$windspeed + \n",
       "    x2$registered)\n",
       "\n",
       "Residuals:\n",
       "   Min     1Q Median     3Q    Max \n",
       "-900.7 -313.1 -142.5  131.3 2103.8 \n",
       "\n",
       "Coefficients:\n",
       "                Estimate Std. Error t value Pr(>|t|)    \n",
       "(Intercept)    2.563e+02  1.445e+02   1.773  0.07660 .  \n",
       "x2$temp       -2.071e+07  1.178e+07  -1.758  0.07918 .  \n",
       "x2$atemp       4.106e+07  1.342e+07   3.060  0.00230 ** \n",
       "x2$hum        -6.770e+06  1.269e+06  -5.334  1.3e-07 ***\n",
       "x2$windspeed  -6.188e+06  2.327e+06  -2.659  0.00802 ** \n",
       "x2$registered  8.990e+03  1.345e+02  66.848  < 2e-16 ***\n",
       "---\n",
       "Signif. codes:  0 '***' 0.001 '**' 0.01 '*' 0.05 '.' 0.1 ' ' 1\n",
       "\n",
       "Residual standard error: 499.1 on 696 degrees of freedom\n",
       "Multiple R-squared:  0.932,\tAdjusted R-squared:  0.9315 \n",
       "F-statistic:  1909 on 5 and 696 DF,  p-value: < 2.2e-16\n"
      ]
     },
     "metadata": {},
     "output_type": "display_data"
    },
    {
     "data": {
      "image/png": "[encoded data removed]",
      "text/plain": [
       "Plot with title \"\""
      ]
     },
     "metadata": {},
     "output_type": "display_data"
    }
   ],
   "source": [
    "model <- lm(x2$cnt~x2$temp + x2$atemp + x2$hum + x2$windspeed + x2$registered)\n",
    "summary(model)\n",
    "par(mfrow=c(2, 2))\n",
    "plot(model)"
   ]
  },
  {
   "cell_type": "code",
   "execution_count": 331,
   "metadata": {},
   "outputs": [
    {
     "name": "stdout",
     "output_type": "stream",
     "text": [
      "Start:  AIC=8728.8\n",
      "x2$cnt ~ x2$temp + x2$atemp + x2$hum + x2$windspeed + x2$registered\n",
      "\n"
     ]
    }
   ],
   "source": [
    "model.forward <- step(model, direction=\"forward\", trace=1, scope= ~x2$temp + x2$atemp + x2$hum + x2$windspeed + x2$registered)"
   ]
  },
  {
   "cell_type": "code",
   "execution_count": 332,
   "metadata": {},
   "outputs": [
    {
     "name": "stdout",
     "output_type": "stream",
     "text": [
      "Start:  AIC=8728.8\n",
      "x2$cnt ~ x2$temp + x2$atemp + x2$hum + x2$windspeed + x2$registered\n",
      "\n",
      "                Df  Sum of Sq        RSS     AIC\n",
      "<none>                         173384968  8728.8\n",
      "- x2$temp        1     769942  174154910  8729.9\n",
      "- x2$windspeed   1    1761117  175146085  8733.9\n",
      "- x2$atemp       1    2333008  175717976  8736.2\n",
      "- x2$hum         1    7088533  180473501  8754.9\n",
      "- x2$registered  1 1113217990 1286602958 10133.8\n"
     ]
    }
   ],
   "source": [
    "model.backward <- step(model, direction=\"backward\", trace=1, scope= ~x2$temp + x2$atemp + x2$hum + x2$windspeed + x2$registered)"
   ]
  },
  {
   "cell_type": "markdown",
   "metadata": {},
   "source": [
    "Nic nie odrzuciło"
   ]
  },
  {
   "cell_type": "code",
   "execution_count": 333,
   "metadata": {},
   "outputs": [],
   "source": [
    "write.csv(x2, file = \"day_final\")"
   ]
  },
  {
   "cell_type": "code",
   "execution_count": null,
   "metadata": {},
   "outputs": [],
   "source": []
  }
 ],
 "metadata": {
  "kernelspec": {
   "display_name": "R",
   "language": "R",
   "name": "ir"
  },
  "latex_envs": {
   "LaTeX_envs_menu_present": true,
   "autoclose": false,
   "autocomplete": true,
   "bibliofile": "biblio.bib",
   "cite_by": "apalike",
   "current_citInitial": 1,
   "eqLabelWithNumbers": true,
   "eqNumInitial": 1,
   "hotkeys": {
    "equation": "Ctrl-E",
    "itemize": "Ctrl-I"
   },
   "labels_anchors": false,
   "latex_user_defs": false,
   "report_style_numbering": false,
   "user_envs_cfg": false
  },
  "toc": {
   "base_numbering": 1,
   "nav_menu": {},
   "number_sections": true,
   "sideBar": true,
   "skip_h1_title": false,
   "title_cell": "Table of Contents",
   "title_sidebar": "Contents",
   "toc_cell": false,
   "toc_position": {},
   "toc_section_display": true,
   "toc_window_display": false
  }
 },
 "nbformat": 4,
 "nbformat_minor": 2
}
