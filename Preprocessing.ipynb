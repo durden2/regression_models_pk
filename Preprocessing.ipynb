{
 "cells": [
  {
   "cell_type": "markdown",
   "metadata": {},
   "source": [
    "## Normalizacja"
   ]
  },
  {
   "cell_type": "code",
   "execution_count": 14,
   "metadata": {},
   "outputs": [
    {
     "data": {
      "text/html": [
       "<table>\n",
       "<thead><tr><th scope=col>instant</th><th scope=col>dteday</th><th scope=col>season</th><th scope=col>yr</th><th scope=col>mnth</th><th scope=col>holiday</th><th scope=col>weekday</th><th scope=col>workingday</th><th scope=col>weathersit</th><th scope=col>temp</th><th scope=col>atemp</th><th scope=col>hum</th><th scope=col>windspeed</th><th scope=col>casual</th><th scope=col>registered</th><th scope=col>cnt</th></tr></thead>\n",
       "<tbody>\n",
       "\t<tr><td>1         </td><td>2011-01-01</td><td>1         </td><td>0         </td><td>1         </td><td>0         </td><td>6         </td><td>0         </td><td>2         </td><td>0.344167  </td><td>0.363625  </td><td>0.805833  </td><td>0.1604460 </td><td>331       </td><td> 654      </td><td> 985      </td></tr>\n",
       "\t<tr><td>2         </td><td>2011-01-02</td><td>1         </td><td>0         </td><td>1         </td><td>0         </td><td>0         </td><td>0         </td><td>2         </td><td>0.363478  </td><td>0.353739  </td><td>0.696087  </td><td>0.2485390 </td><td>131       </td><td> 670      </td><td> 801      </td></tr>\n",
       "\t<tr><td>3         </td><td>2011-01-03</td><td>1         </td><td>0         </td><td>1         </td><td>0         </td><td>1         </td><td>1         </td><td>1         </td><td>0.196364  </td><td>0.189405  </td><td>0.437273  </td><td>0.2483090 </td><td>120       </td><td>1229      </td><td>1349      </td></tr>\n",
       "\t<tr><td>4         </td><td>2011-01-04</td><td>1         </td><td>0         </td><td>1         </td><td>0         </td><td>2         </td><td>1         </td><td>1         </td><td>0.200000  </td><td>0.212122  </td><td>0.590435  </td><td>0.1602960 </td><td>108       </td><td>1454      </td><td>1562      </td></tr>\n",
       "\t<tr><td>5         </td><td>2011-01-05</td><td>1         </td><td>0         </td><td>1         </td><td>0         </td><td>3         </td><td>1         </td><td>1         </td><td>0.226957  </td><td>0.229270  </td><td>0.436957  </td><td>0.1869000 </td><td> 82       </td><td>1518      </td><td>1600      </td></tr>\n",
       "\t<tr><td>6         </td><td>2011-01-06</td><td>1         </td><td>0         </td><td>1         </td><td>0         </td><td>4         </td><td>1         </td><td>1         </td><td>0.204348  </td><td>0.233209  </td><td>0.518261  </td><td>0.0895652 </td><td> 88       </td><td>1518      </td><td>1606      </td></tr>\n",
       "</tbody>\n",
       "</table>\n"
      ],
      "text/latex": [
       "\\begin{tabular}{r|llllllllllllllll}\n",
       " instant & dteday & season & yr & mnth & holiday & weekday & workingday & weathersit & temp & atemp & hum & windspeed & casual & registered & cnt\\\\\n",
       "\\hline\n",
       "\t 1          & 2011-01-01 & 1          & 0          & 1          & 0          & 6          & 0          & 2          & 0.344167   & 0.363625   & 0.805833   & 0.1604460  & 331        &  654       &  985      \\\\\n",
       "\t 2          & 2011-01-02 & 1          & 0          & 1          & 0          & 0          & 0          & 2          & 0.363478   & 0.353739   & 0.696087   & 0.2485390  & 131        &  670       &  801      \\\\\n",
       "\t 3          & 2011-01-03 & 1          & 0          & 1          & 0          & 1          & 1          & 1          & 0.196364   & 0.189405   & 0.437273   & 0.2483090  & 120        & 1229       & 1349      \\\\\n",
       "\t 4          & 2011-01-04 & 1          & 0          & 1          & 0          & 2          & 1          & 1          & 0.200000   & 0.212122   & 0.590435   & 0.1602960  & 108        & 1454       & 1562      \\\\\n",
       "\t 5          & 2011-01-05 & 1          & 0          & 1          & 0          & 3          & 1          & 1          & 0.226957   & 0.229270   & 0.436957   & 0.1869000  &  82        & 1518       & 1600      \\\\\n",
       "\t 6          & 2011-01-06 & 1          & 0          & 1          & 0          & 4          & 1          & 1          & 0.204348   & 0.233209   & 0.518261   & 0.0895652  &  88        & 1518       & 1606      \\\\\n",
       "\\end{tabular}\n"
      ],
      "text/markdown": [
       "\n",
       "instant | dteday | season | yr | mnth | holiday | weekday | workingday | weathersit | temp | atemp | hum | windspeed | casual | registered | cnt | \n",
       "|---|---|---|---|---|---|\n",
       "| 1          | 2011-01-01 | 1          | 0          | 1          | 0          | 6          | 0          | 2          | 0.344167   | 0.363625   | 0.805833   | 0.1604460  | 331        |  654       |  985       | \n",
       "| 2          | 2011-01-02 | 1          | 0          | 1          | 0          | 0          | 0          | 2          | 0.363478   | 0.353739   | 0.696087   | 0.2485390  | 131        |  670       |  801       | \n",
       "| 3          | 2011-01-03 | 1          | 0          | 1          | 0          | 1          | 1          | 1          | 0.196364   | 0.189405   | 0.437273   | 0.2483090  | 120        | 1229       | 1349       | \n",
       "| 4          | 2011-01-04 | 1          | 0          | 1          | 0          | 2          | 1          | 1          | 0.200000   | 0.212122   | 0.590435   | 0.1602960  | 108        | 1454       | 1562       | \n",
       "| 5          | 2011-01-05 | 1          | 0          | 1          | 0          | 3          | 1          | 1          | 0.226957   | 0.229270   | 0.436957   | 0.1869000  |  82        | 1518       | 1600       | \n",
       "| 6          | 2011-01-06 | 1          | 0          | 1          | 0          | 4          | 1          | 1          | 0.204348   | 0.233209   | 0.518261   | 0.0895652  |  88        | 1518       | 1606       | \n",
       "\n",
       "\n"
      ],
      "text/plain": [
       "  instant dteday     season yr mnth holiday weekday workingday weathersit\n",
       "1 1       2011-01-01 1      0  1    0       6       0          2         \n",
       "2 2       2011-01-02 1      0  1    0       0       0          2         \n",
       "3 3       2011-01-03 1      0  1    0       1       1          1         \n",
       "4 4       2011-01-04 1      0  1    0       2       1          1         \n",
       "5 5       2011-01-05 1      0  1    0       3       1          1         \n",
       "6 6       2011-01-06 1      0  1    0       4       1          1         \n",
       "  temp     atemp    hum      windspeed casual registered cnt \n",
       "1 0.344167 0.363625 0.805833 0.1604460 331     654        985\n",
       "2 0.363478 0.353739 0.696087 0.2485390 131     670        801\n",
       "3 0.196364 0.189405 0.437273 0.2483090 120    1229       1349\n",
       "4 0.200000 0.212122 0.590435 0.1602960 108    1454       1562\n",
       "5 0.226957 0.229270 0.436957 0.1869000  82    1518       1600\n",
       "6 0.204348 0.233209 0.518261 0.0895652  88    1518       1606"
      ]
     },
     "metadata": {},
     "output_type": "display_data"
    }
   ],
   "source": [
    "data = read.csv(\"day.csv\")\n",
    "head(data)"
   ]
  },
  {
   "cell_type": "code",
   "execution_count": 19,
   "metadata": {},
   "outputs": [
    {
     "data": {
      "text/plain": [
       "    instant             dteday        season            yr        \n",
       " Min.   :  1.0   2011-01-01:  1   Min.   :1.000   Min.   :0.0000  \n",
       " 1st Qu.:183.5   2011-01-02:  1   1st Qu.:2.000   1st Qu.:0.0000  \n",
       " Median :366.0   2011-01-03:  1   Median :3.000   Median :1.0000  \n",
       " Mean   :366.0   2011-01-04:  1   Mean   :2.497   Mean   :0.5007  \n",
       " 3rd Qu.:548.5   2011-01-05:  1   3rd Qu.:3.000   3rd Qu.:1.0000  \n",
       " Max.   :731.0   2011-01-06:  1   Max.   :4.000   Max.   :1.0000  \n",
       "                 (Other)   :725                                   \n",
       "      mnth          holiday           weekday        workingday   \n",
       " Min.   : 1.00   Min.   :0.00000   Min.   :0.000   Min.   :0.000  \n",
       " 1st Qu.: 4.00   1st Qu.:0.00000   1st Qu.:1.000   1st Qu.:0.000  \n",
       " Median : 7.00   Median :0.00000   Median :3.000   Median :1.000  \n",
       " Mean   : 6.52   Mean   :0.02873   Mean   :2.997   Mean   :0.684  \n",
       " 3rd Qu.:10.00   3rd Qu.:0.00000   3rd Qu.:5.000   3rd Qu.:1.000  \n",
       " Max.   :12.00   Max.   :1.00000   Max.   :6.000   Max.   :1.000  \n",
       "                                                                  \n",
       "   weathersit         temp             atemp              hum        \n",
       " Min.   :1.000   Min.   :0.05913   Min.   :0.07907   Min.   :0.0000  \n",
       " 1st Qu.:1.000   1st Qu.:0.33708   1st Qu.:0.33784   1st Qu.:0.5200  \n",
       " Median :1.000   Median :0.49833   Median :0.48673   Median :0.6267  \n",
       " Mean   :1.395   Mean   :0.49538   Mean   :0.47435   Mean   :0.6279  \n",
       " 3rd Qu.:2.000   3rd Qu.:0.65542   3rd Qu.:0.60860   3rd Qu.:0.7302  \n",
       " Max.   :3.000   Max.   :0.86167   Max.   :0.84090   Max.   :0.9725  \n",
       "                                                                     \n",
       "   windspeed           casual         registered        cnt      \n",
       " Min.   :0.02239   Min.   :   2.0   Min.   :  20   Min.   :  22  \n",
       " 1st Qu.:0.13495   1st Qu.: 315.5   1st Qu.:2497   1st Qu.:3152  \n",
       " Median :0.18097   Median : 713.0   Median :3662   Median :4548  \n",
       " Mean   :0.19049   Mean   : 848.2   Mean   :3656   Mean   :4504  \n",
       " 3rd Qu.:0.23321   3rd Qu.:1096.0   3rd Qu.:4776   3rd Qu.:5956  \n",
       " Max.   :0.50746   Max.   :3410.0   Max.   :6946   Max.   :8714  \n",
       "                                                                 "
      ]
     },
     "metadata": {},
     "output_type": "display_data"
    }
   ],
   "source": [
    "summary(data)"
   ]
  },
  {
   "cell_type": "code",
   "execution_count": 45,
   "metadata": {},
   "outputs": [
    {
     "data": {
      "text/html": [
       "<table>\n",
       "<thead><tr><th scope=col>temp</th><th scope=col>atemp</th><th scope=col>hum</th><th scope=col>windspeed</th><th scope=col>registered</th><th scope=col>casual</th><th scope=col>cnt</th></tr></thead>\n",
       "<tbody>\n",
       "\t<tr><td>0.344167 </td><td>0.363625 </td><td>0.805833 </td><td>0.1604460</td><td> 654     </td><td>331      </td><td> 985     </td></tr>\n",
       "\t<tr><td>0.363478 </td><td>0.353739 </td><td>0.696087 </td><td>0.2485390</td><td> 670     </td><td>131      </td><td> 801     </td></tr>\n",
       "\t<tr><td>0.196364 </td><td>0.189405 </td><td>0.437273 </td><td>0.2483090</td><td>1229     </td><td>120      </td><td>1349     </td></tr>\n",
       "\t<tr><td>0.200000 </td><td>0.212122 </td><td>0.590435 </td><td>0.1602960</td><td>1454     </td><td>108      </td><td>1562     </td></tr>\n",
       "\t<tr><td>0.226957 </td><td>0.229270 </td><td>0.436957 </td><td>0.1869000</td><td>1518     </td><td> 82      </td><td>1600     </td></tr>\n",
       "\t<tr><td>0.204348 </td><td>0.233209 </td><td>0.518261 </td><td>0.0895652</td><td>1518     </td><td> 88      </td><td>1606     </td></tr>\n",
       "</tbody>\n",
       "</table>\n"
      ],
      "text/latex": [
       "\\begin{tabular}{r|lllllll}\n",
       " temp & atemp & hum & windspeed & registered & casual & cnt\\\\\n",
       "\\hline\n",
       "\t 0.344167  & 0.363625  & 0.805833  & 0.1604460 &  654      & 331       &  985     \\\\\n",
       "\t 0.363478  & 0.353739  & 0.696087  & 0.2485390 &  670      & 131       &  801     \\\\\n",
       "\t 0.196364  & 0.189405  & 0.437273  & 0.2483090 & 1229      & 120       & 1349     \\\\\n",
       "\t 0.200000  & 0.212122  & 0.590435  & 0.1602960 & 1454      & 108       & 1562     \\\\\n",
       "\t 0.226957  & 0.229270  & 0.436957  & 0.1869000 & 1518      &  82       & 1600     \\\\\n",
       "\t 0.204348  & 0.233209  & 0.518261  & 0.0895652 & 1518      &  88       & 1606     \\\\\n",
       "\\end{tabular}\n"
      ],
      "text/markdown": [
       "\n",
       "temp | atemp | hum | windspeed | registered | casual | cnt | \n",
       "|---|---|---|---|---|---|\n",
       "| 0.344167  | 0.363625  | 0.805833  | 0.1604460 |  654      | 331       |  985      | \n",
       "| 0.363478  | 0.353739  | 0.696087  | 0.2485390 |  670      | 131       |  801      | \n",
       "| 0.196364  | 0.189405  | 0.437273  | 0.2483090 | 1229      | 120       | 1349      | \n",
       "| 0.200000  | 0.212122  | 0.590435  | 0.1602960 | 1454      | 108       | 1562      | \n",
       "| 0.226957  | 0.229270  | 0.436957  | 0.1869000 | 1518      |  82       | 1600      | \n",
       "| 0.204348  | 0.233209  | 0.518261  | 0.0895652 | 1518      |  88       | 1606      | \n",
       "\n",
       "\n"
      ],
      "text/plain": [
       "  temp     atemp    hum      windspeed registered casual cnt \n",
       "1 0.344167 0.363625 0.805833 0.1604460  654       331     985\n",
       "2 0.363478 0.353739 0.696087 0.2485390  670       131     801\n",
       "3 0.196364 0.189405 0.437273 0.2483090 1229       120    1349\n",
       "4 0.200000 0.212122 0.590435 0.1602960 1454       108    1562\n",
       "5 0.226957 0.229270 0.436957 0.1869000 1518        82    1600\n",
       "6 0.204348 0.233209 0.518261 0.0895652 1518        88    1606"
      ]
     },
     "metadata": {},
     "output_type": "display_data"
    }
   ],
   "source": [
    "keeps <- c(\"temp\",\"atemp\",  \"hum\", \"windspeed\", \"registered\", \"casual\", \"cnt\")\n",
    "df = data[keeps]\n",
    "head(df)"
   ]
  },
  {
   "cell_type": "code",
   "execution_count": 46,
   "metadata": {},
   "outputs": [
    {
     "data": {
      "text/html": [
       "<table>\n",
       "<thead><tr><th scope=col>temp</th><th scope=col>atemp</th><th scope=col>hum</th><th scope=col>windspeed</th><th scope=col>registered</th><th scope=col>casual</th><th scope=col>cnt</th><th scope=col>season</th></tr></thead>\n",
       "<tbody>\n",
       "\t<tr><td>3.949587e-05</td><td>4.172883e-05</td><td>9.247567e-05</td><td>1.841244e-05</td><td>0.07505164  </td><td>0.037984852 </td><td>0.11303649  </td><td>1           </td></tr>\n",
       "\t<tr><td>4.171196e-05</td><td>4.059433e-05</td><td>7.988146e-05</td><td>2.852180e-05</td><td>0.07688777  </td><td>0.015033280 </td><td>0.09192105  </td><td>1           </td></tr>\n",
       "\t<tr><td>2.253431e-05</td><td>2.173571e-05</td><td>5.018051e-05</td><td>2.849541e-05</td><td>0.14103741  </td><td>0.013770943 </td><td>0.15480835  </td><td>1           </td></tr>\n",
       "\t<tr><td>2.295157e-05</td><td>2.434267e-05</td><td>6.775706e-05</td><td>1.839523e-05</td><td>0.16685793  </td><td>0.012393849 </td><td>0.17925178  </td><td>1           </td></tr>\n",
       "\t<tr><td>2.604510e-05</td><td>2.631053e-05</td><td>5.014425e-05</td><td>2.144824e-05</td><td>0.17420243  </td><td>0.009410145 </td><td>0.18361258  </td><td>1           </td></tr>\n",
       "\t<tr><td>2.345054e-05</td><td>2.676257e-05</td><td>5.947452e-05</td><td>1.027831e-05</td><td>0.17420243  </td><td>0.010098692 </td><td>0.18430112  </td><td>1           </td></tr>\n",
       "</tbody>\n",
       "</table>\n"
      ],
      "text/latex": [
       "\\begin{tabular}{r|llllllll}\n",
       " temp & atemp & hum & windspeed & registered & casual & cnt & season\\\\\n",
       "\\hline\n",
       "\t 3.949587e-05 & 4.172883e-05 & 9.247567e-05 & 1.841244e-05 & 0.07505164   & 0.037984852  & 0.11303649   & 1           \\\\\n",
       "\t 4.171196e-05 & 4.059433e-05 & 7.988146e-05 & 2.852180e-05 & 0.07688777   & 0.015033280  & 0.09192105   & 1           \\\\\n",
       "\t 2.253431e-05 & 2.173571e-05 & 5.018051e-05 & 2.849541e-05 & 0.14103741   & 0.013770943  & 0.15480835   & 1           \\\\\n",
       "\t 2.295157e-05 & 2.434267e-05 & 6.775706e-05 & 1.839523e-05 & 0.16685793   & 0.012393849  & 0.17925178   & 1           \\\\\n",
       "\t 2.604510e-05 & 2.631053e-05 & 5.014425e-05 & 2.144824e-05 & 0.17420243   & 0.009410145  & 0.18361258   & 1           \\\\\n",
       "\t 2.345054e-05 & 2.676257e-05 & 5.947452e-05 & 1.027831e-05 & 0.17420243   & 0.010098692  & 0.18430112   & 1           \\\\\n",
       "\\end{tabular}\n"
      ],
      "text/markdown": [
       "\n",
       "temp | atemp | hum | windspeed | registered | casual | cnt | season | \n",
       "|---|---|---|---|---|---|\n",
       "| 3.949587e-05 | 4.172883e-05 | 9.247567e-05 | 1.841244e-05 | 0.07505164   | 0.037984852  | 0.11303649   | 1            | \n",
       "| 4.171196e-05 | 4.059433e-05 | 7.988146e-05 | 2.852180e-05 | 0.07688777   | 0.015033280  | 0.09192105   | 1            | \n",
       "| 2.253431e-05 | 2.173571e-05 | 5.018051e-05 | 2.849541e-05 | 0.14103741   | 0.013770943  | 0.15480835   | 1            | \n",
       "| 2.295157e-05 | 2.434267e-05 | 6.775706e-05 | 1.839523e-05 | 0.16685793   | 0.012393849  | 0.17925178   | 1            | \n",
       "| 2.604510e-05 | 2.631053e-05 | 5.014425e-05 | 2.144824e-05 | 0.17420243   | 0.009410145  | 0.18361258   | 1            | \n",
       "| 2.345054e-05 | 2.676257e-05 | 5.947452e-05 | 1.027831e-05 | 0.17420243   | 0.010098692  | 0.18430112   | 1            | \n",
       "\n",
       "\n"
      ],
      "text/plain": [
       "  temp         atemp        hum          windspeed    registered casual     \n",
       "1 3.949587e-05 4.172883e-05 9.247567e-05 1.841244e-05 0.07505164 0.037984852\n",
       "2 4.171196e-05 4.059433e-05 7.988146e-05 2.852180e-05 0.07688777 0.015033280\n",
       "3 2.253431e-05 2.173571e-05 5.018051e-05 2.849541e-05 0.14103741 0.013770943\n",
       "4 2.295157e-05 2.434267e-05 6.775706e-05 1.839523e-05 0.16685793 0.012393849\n",
       "5 2.604510e-05 2.631053e-05 5.014425e-05 2.144824e-05 0.17420243 0.009410145\n",
       "6 2.345054e-05 2.676257e-05 5.947452e-05 1.027831e-05 0.17420243 0.010098692\n",
       "  cnt        season\n",
       "1 0.11303649 1     \n",
       "2 0.09192105 1     \n",
       "3 0.15480835 1     \n",
       "4 0.17925178 1     \n",
       "5 0.18361258 1     \n",
       "6 0.18430112 1     "
      ]
     },
     "metadata": {},
     "output_type": "display_data"
    },
    {
     "data": {
      "text/html": [
       "<ol class=list-inline>\n",
       "\t<li>0</li>\n",
       "\t<li>4</li>\n",
       "</ol>\n"
      ],
      "text/latex": [
       "\\begin{enumerate*}\n",
       "\\item 0\n",
       "\\item 4\n",
       "\\end{enumerate*}\n"
      ],
      "text/markdown": [
       "1. 0\n",
       "2. 4\n",
       "\n",
       "\n"
      ],
      "text/plain": [
       "[1] 0 4"
      ]
     },
     "metadata": {},
     "output_type": "display_data"
    }
   ],
   "source": [
    "x <- df\n",
    "normalized = (x-min(x))/(max(x)-min(x))\n",
    "normalized = data.frame(normalized, 'season' = data$season)\n",
    "head(normalized)\n",
    "range(normalized)"
   ]
  },
  {
   "cell_type": "code",
   "execution_count": 47,
   "metadata": {},
   "outputs": [],
   "source": [
    "write.csv(normalized, file = \"day_normalized.csv\")"
   ]
  },
  {
   "cell_type": "code",
   "execution_count": 48,
   "metadata": {},
   "outputs": [
    {
     "data": {
      "text/html": [
       "<table>\n",
       "<thead><tr><th></th><th scope=col>temp</th><th scope=col>atemp</th><th scope=col>hum</th><th scope=col>windspeed</th><th scope=col>registered</th><th scope=col>casual</th><th scope=col>cnt</th><th scope=col>season</th></tr></thead>\n",
       "<tbody>\n",
       "\t<tr><th scope=row>temp</th><td> 1.0000000 </td><td> 0.9917016 </td><td> 0.12696294</td><td>-0.1579441 </td><td> 0.5400120 </td><td> 0.54328466</td><td> 0.6274940 </td><td> 0.3343149 </td></tr>\n",
       "\t<tr><th scope=row>atemp</th><td> 0.9917016 </td><td> 1.0000000 </td><td> 0.13998806</td><td>-0.1836430 </td><td> 0.5441918 </td><td> 0.54386369</td><td> 0.6310657 </td><td> 0.3428756 </td></tr>\n",
       "\t<tr><th scope=row>hum</th><td> 0.1269629 </td><td> 0.1399881 </td><td> 1.00000000</td><td>-0.2484891 </td><td>-0.0910886 </td><td>-0.07700788</td><td>-0.1006586 </td><td> 0.2054448 </td></tr>\n",
       "\t<tr><th scope=row>windspeed</th><td>-0.1579441 </td><td>-0.1836430 </td><td>-0.24848910</td><td> 1.0000000 </td><td>-0.2174490 </td><td>-0.16761335</td><td>-0.2345450 </td><td>-0.2290463 </td></tr>\n",
       "\t<tr><th scope=row>registered</th><td> 0.5400120 </td><td> 0.5441918 </td><td>-0.09108860</td><td>-0.2174490 </td><td> 1.0000000 </td><td> 0.39528245</td><td> 0.9455169 </td><td> 0.4116231 </td></tr>\n",
       "\t<tr><th scope=row>casual</th><td> 0.5432847 </td><td> 0.5438637 </td><td>-0.07700788</td><td>-0.1676133 </td><td> 0.3952825 </td><td> 1.00000000</td><td> 0.6728044 </td><td> 0.2103992 </td></tr>\n",
       "\t<tr><th scope=row>cnt</th><td> 0.6274940 </td><td> 0.6310657 </td><td>-0.10065856</td><td>-0.2345450 </td><td> 0.9455169 </td><td> 0.67280443</td><td> 1.0000000 </td><td> 0.4061004 </td></tr>\n",
       "\t<tr><th scope=row>season</th><td> 0.3343149 </td><td> 0.3428756 </td><td> 0.20544476</td><td>-0.2290463 </td><td> 0.4116231 </td><td> 0.21039916</td><td> 0.4061004 </td><td> 1.0000000 </td></tr>\n",
       "</tbody>\n",
       "</table>\n"
      ],
      "text/latex": [
       "\\begin{tabular}{r|llllllll}\n",
       "  & temp & atemp & hum & windspeed & registered & casual & cnt & season\\\\\n",
       "\\hline\n",
       "\ttemp &  1.0000000  &  0.9917016  &  0.12696294 & -0.1579441  &  0.5400120  &  0.54328466 &  0.6274940  &  0.3343149 \\\\\n",
       "\tatemp &  0.9917016  &  1.0000000  &  0.13998806 & -0.1836430  &  0.5441918  &  0.54386369 &  0.6310657  &  0.3428756 \\\\\n",
       "\thum &  0.1269629  &  0.1399881  &  1.00000000 & -0.2484891  & -0.0910886  & -0.07700788 & -0.1006586  &  0.2054448 \\\\\n",
       "\twindspeed & -0.1579441  & -0.1836430  & -0.24848910 &  1.0000000  & -0.2174490  & -0.16761335 & -0.2345450  & -0.2290463 \\\\\n",
       "\tregistered &  0.5400120  &  0.5441918  & -0.09108860 & -0.2174490  &  1.0000000  &  0.39528245 &  0.9455169  &  0.4116231 \\\\\n",
       "\tcasual &  0.5432847  &  0.5438637  & -0.07700788 & -0.1676133  &  0.3952825  &  1.00000000 &  0.6728044  &  0.2103992 \\\\\n",
       "\tcnt &  0.6274940  &  0.6310657  & -0.10065856 & -0.2345450  &  0.9455169  &  0.67280443 &  1.0000000  &  0.4061004 \\\\\n",
       "\tseason &  0.3343149  &  0.3428756  &  0.20544476 & -0.2290463  &  0.4116231  &  0.21039916 &  0.4061004  &  1.0000000 \\\\\n",
       "\\end{tabular}\n"
      ],
      "text/markdown": [
       "\n",
       "| <!--/--> | temp | atemp | hum | windspeed | registered | casual | cnt | season | \n",
       "|---|---|---|---|---|---|---|---|\n",
       "| temp |  1.0000000  |  0.9917016  |  0.12696294 | -0.1579441  |  0.5400120  |  0.54328466 |  0.6274940  |  0.3343149  | \n",
       "| atemp |  0.9917016  |  1.0000000  |  0.13998806 | -0.1836430  |  0.5441918  |  0.54386369 |  0.6310657  |  0.3428756  | \n",
       "| hum |  0.1269629  |  0.1399881  |  1.00000000 | -0.2484891  | -0.0910886  | -0.07700788 | -0.1006586  |  0.2054448  | \n",
       "| windspeed | -0.1579441  | -0.1836430  | -0.24848910 |  1.0000000  | -0.2174490  | -0.16761335 | -0.2345450  | -0.2290463  | \n",
       "| registered |  0.5400120  |  0.5441918  | -0.09108860 | -0.2174490  |  1.0000000  |  0.39528245 |  0.9455169  |  0.4116231  | \n",
       "| casual |  0.5432847  |  0.5438637  | -0.07700788 | -0.1676133  |  0.3952825  |  1.00000000 |  0.6728044  |  0.2103992  | \n",
       "| cnt |  0.6274940  |  0.6310657  | -0.10065856 | -0.2345450  |  0.9455169  |  0.67280443 |  1.0000000  |  0.4061004  | \n",
       "| season |  0.3343149  |  0.3428756  |  0.20544476 | -0.2290463  |  0.4116231  |  0.21039916 |  0.4061004  |  1.0000000  | \n",
       "\n",
       "\n"
      ],
      "text/plain": [
       "           temp       atemp      hum         windspeed  registered casual     \n",
       "temp        1.0000000  0.9917016  0.12696294 -0.1579441  0.5400120  0.54328466\n",
       "atemp       0.9917016  1.0000000  0.13998806 -0.1836430  0.5441918  0.54386369\n",
       "hum         0.1269629  0.1399881  1.00000000 -0.2484891 -0.0910886 -0.07700788\n",
       "windspeed  -0.1579441 -0.1836430 -0.24848910  1.0000000 -0.2174490 -0.16761335\n",
       "registered  0.5400120  0.5441918 -0.09108860 -0.2174490  1.0000000  0.39528245\n",
       "casual      0.5432847  0.5438637 -0.07700788 -0.1676133  0.3952825  1.00000000\n",
       "cnt         0.6274940  0.6310657 -0.10065856 -0.2345450  0.9455169  0.67280443\n",
       "season      0.3343149  0.3428756  0.20544476 -0.2290463  0.4116231  0.21039916\n",
       "           cnt        season    \n",
       "temp        0.6274940  0.3343149\n",
       "atemp       0.6310657  0.3428756\n",
       "hum        -0.1006586  0.2054448\n",
       "windspeed  -0.2345450 -0.2290463\n",
       "registered  0.9455169  0.4116231\n",
       "casual      0.6728044  0.2103992\n",
       "cnt         1.0000000  0.4061004\n",
       "season      0.4061004  1.0000000"
      ]
     },
     "metadata": {},
     "output_type": "display_data"
    }
   ],
   "source": [
    "cor(normalized)"
   ]
  },
  {
   "cell_type": "code",
   "execution_count": 49,
   "metadata": {},
   "outputs": [
    {
     "data": {
      "image/png": "[encoded data removed]",
      "text/plain": [
       "Plot with title \"Histogram of normalized$cnt\""
      ]
     },
     "metadata": {},
     "output_type": "display_data"
    }
   ],
   "source": [
    "par(mfrow = c(3,2))\n",
    "\n",
    "hist(normalized$temp, xlab = 'temp')\n",
    "hist(normalized$hum, xlab = 'hum')\n",
    "hist(normalized$atemp, xlab = 'atemp')\n",
    "hist(normalized$windspeed, xlab = 'wind speed')\n",
    "hist(normalized$season, xlab = 'season')\n",
    "hist(normalized$cnt, xlab = 'total count')"
   ]
  },
  {
   "cell_type": "markdown",
   "metadata": {},
   "source": [
    "## Dodaje kolumnę z procentowym udziałem zarejestrowanych userów w całości cnt wypozyczonych rowerow"
   ]
  },
  {
   "cell_type": "code",
   "execution_count": 67,
   "metadata": {},
   "outputs": [
    {
     "data": {
      "text/html": [
       "<table>\n",
       "<thead><tr><th scope=col>temp</th><th scope=col>atemp</th><th scope=col>hum</th><th scope=col>windspeed</th><th scope=col>registered</th><th scope=col>cnt</th><th scope=col>season</th></tr></thead>\n",
       "<tbody>\n",
       "\t<tr><td>3.949587e-05</td><td>4.172883e-05</td><td>9.247567e-05</td><td>1.841244e-05</td><td>0.6639594   </td><td>0.11303649  </td><td>1           </td></tr>\n",
       "\t<tr><td>4.171196e-05</td><td>4.059433e-05</td><td>7.988146e-05</td><td>2.852180e-05</td><td>0.8364544   </td><td>0.09192105  </td><td>1           </td></tr>\n",
       "\t<tr><td>2.253431e-05</td><td>2.173571e-05</td><td>5.018051e-05</td><td>2.849541e-05</td><td>0.9110452   </td><td>0.15480835  </td><td>1           </td></tr>\n",
       "\t<tr><td>2.295157e-05</td><td>2.434267e-05</td><td>6.775706e-05</td><td>1.839523e-05</td><td>0.9308579   </td><td>0.17925178  </td><td>1           </td></tr>\n",
       "\t<tr><td>2.604510e-05</td><td>2.631053e-05</td><td>5.014425e-05</td><td>2.144824e-05</td><td>0.9487500   </td><td>0.18361258  </td><td>1           </td></tr>\n",
       "\t<tr><td>2.345054e-05</td><td>2.676257e-05</td><td>5.947452e-05</td><td>1.027831e-05</td><td>0.9452055   </td><td>0.18430112  </td><td>1           </td></tr>\n",
       "</tbody>\n",
       "</table>\n"
      ],
      "text/latex": [
       "\\begin{tabular}{r|lllllll}\n",
       " temp & atemp & hum & windspeed & registered & cnt & season\\\\\n",
       "\\hline\n",
       "\t 3.949587e-05 & 4.172883e-05 & 9.247567e-05 & 1.841244e-05 & 0.6639594    & 0.11303649   & 1           \\\\\n",
       "\t 4.171196e-05 & 4.059433e-05 & 7.988146e-05 & 2.852180e-05 & 0.8364544    & 0.09192105   & 1           \\\\\n",
       "\t 2.253431e-05 & 2.173571e-05 & 5.018051e-05 & 2.849541e-05 & 0.9110452    & 0.15480835   & 1           \\\\\n",
       "\t 2.295157e-05 & 2.434267e-05 & 6.775706e-05 & 1.839523e-05 & 0.9308579    & 0.17925178   & 1           \\\\\n",
       "\t 2.604510e-05 & 2.631053e-05 & 5.014425e-05 & 2.144824e-05 & 0.9487500    & 0.18361258   & 1           \\\\\n",
       "\t 2.345054e-05 & 2.676257e-05 & 5.947452e-05 & 1.027831e-05 & 0.9452055    & 0.18430112   & 1           \\\\\n",
       "\\end{tabular}\n"
      ],
      "text/markdown": [
       "\n",
       "temp | atemp | hum | windspeed | registered | cnt | season | \n",
       "|---|---|---|---|---|---|\n",
       "| 3.949587e-05 | 4.172883e-05 | 9.247567e-05 | 1.841244e-05 | 0.6639594    | 0.11303649   | 1            | \n",
       "| 4.171196e-05 | 4.059433e-05 | 7.988146e-05 | 2.852180e-05 | 0.8364544    | 0.09192105   | 1            | \n",
       "| 2.253431e-05 | 2.173571e-05 | 5.018051e-05 | 2.849541e-05 | 0.9110452    | 0.15480835   | 1            | \n",
       "| 2.295157e-05 | 2.434267e-05 | 6.775706e-05 | 1.839523e-05 | 0.9308579    | 0.17925178   | 1            | \n",
       "| 2.604510e-05 | 2.631053e-05 | 5.014425e-05 | 2.144824e-05 | 0.9487500    | 0.18361258   | 1            | \n",
       "| 2.345054e-05 | 2.676257e-05 | 5.947452e-05 | 1.027831e-05 | 0.9452055    | 0.18430112   | 1            | \n",
       "\n",
       "\n"
      ],
      "text/plain": [
       "  temp         atemp        hum          windspeed    registered cnt       \n",
       "1 3.949587e-05 4.172883e-05 9.247567e-05 1.841244e-05 0.6639594  0.11303649\n",
       "2 4.171196e-05 4.059433e-05 7.988146e-05 2.852180e-05 0.8364544  0.09192105\n",
       "3 2.253431e-05 2.173571e-05 5.018051e-05 2.849541e-05 0.9110452  0.15480835\n",
       "4 2.295157e-05 2.434267e-05 6.775706e-05 1.839523e-05 0.9308579  0.17925178\n",
       "5 2.604510e-05 2.631053e-05 5.014425e-05 2.144824e-05 0.9487500  0.18361258\n",
       "6 2.345054e-05 2.676257e-05 5.947452e-05 1.027831e-05 0.9452055  0.18430112\n",
       "  season\n",
       "1 1     \n",
       "2 1     \n",
       "3 1     \n",
       "4 1     \n",
       "5 1     \n",
       "6 1     "
      ]
     },
     "metadata": {},
     "output_type": "display_data"
    }
   ],
   "source": [
    "data_p <- data.frame(normalized, 'registered' = (normalized$registered / normalized$cnt))\n",
    "data_p$registered = data_p$registered.1\n",
    "keeps <- c(\"temp\",\"atemp\",  \"hum\", \"windspeed\", \"registered\", \"cnt\", \"season\")\n",
    "data_p = data_p[keeps]\n",
    "head(data_p)"
   ]
  },
  {
   "cell_type": "code",
   "execution_count": 68,
   "metadata": {},
   "outputs": [],
   "source": [
    "write.csv(data_p, file = \"day_with_registered_percent\")"
   ]
  },
  {
   "cell_type": "markdown",
   "metadata": {},
   "source": [
    "## Wartości odstające"
   ]
  },
  {
   "cell_type": "code",
   "execution_count": 69,
   "metadata": {},
   "outputs": [
    {
     "data": {
      "image/png": "[encoded data removed]",
      "text/plain": [
       "Plot with title \"registered\""
      ]
     },
     "metadata": {},
     "output_type": "display_data"
    }
   ],
   "source": [
    "par(mfrow=c(1, 5))\n",
    "\n",
    "boxplot(data_p$hum, main=\"hum\")\n",
    "boxplot(data_p$temp, main=\"temp\")\n",
    "boxplot(data_p$atemp, main=\"atemp\")\n",
    "boxplot(data_p$windspeed, main=\"windspeed\")\n",
    "boxplot(data_p$registered, main=\"registered\")"
   ]
  },
  {
   "cell_type": "code",
   "execution_count": 70,
   "metadata": {},
   "outputs": [
    {
     "data": {
      "text/html": [
       "<table>\n",
       "<thead><tr><th scope=col>hum</th><th scope=col>temp</th><th scope=col>atemp</th><th scope=col>windspeed</th><th scope=col>registered</th><th scope=col>season</th><th scope=col>cnt</th></tr></thead>\n",
       "<tbody>\n",
       "\t<tr><td>9.247567e-05</td><td>3.949587e-05</td><td>4.172883e-05</td><td>1.841244e-05</td><td>0.6639594   </td><td>1           </td><td>0.11303649  </td></tr>\n",
       "\t<tr><td>7.988146e-05</td><td>4.171196e-05</td><td>4.059433e-05</td><td>2.852180e-05</td><td>0.8364544   </td><td>1           </td><td>0.09192105  </td></tr>\n",
       "\t<tr><td>5.018051e-05</td><td>2.253431e-05</td><td>2.173571e-05</td><td>2.849541e-05</td><td>0.9110452   </td><td>1           </td><td>0.15480835  </td></tr>\n",
       "\t<tr><td>6.775706e-05</td><td>2.295157e-05</td><td>2.434267e-05</td><td>1.839523e-05</td><td>0.9308579   </td><td>1           </td><td>0.17925178  </td></tr>\n",
       "\t<tr><td>5.014425e-05</td><td>2.604510e-05</td><td>2.631053e-05</td><td>2.144824e-05</td><td>0.9487500   </td><td>1           </td><td>0.18361258  </td></tr>\n",
       "\t<tr><td>5.947452e-05</td><td>2.345054e-05</td><td>2.676257e-05</td><td>1.027831e-05</td><td>0.9452055   </td><td>1           </td><td>0.18430112  </td></tr>\n",
       "</tbody>\n",
       "</table>\n"
      ],
      "text/latex": [
       "\\begin{tabular}{r|lllllll}\n",
       " hum & temp & atemp & windspeed & registered & season & cnt\\\\\n",
       "\\hline\n",
       "\t 9.247567e-05 & 3.949587e-05 & 4.172883e-05 & 1.841244e-05 & 0.6639594    & 1            & 0.11303649  \\\\\n",
       "\t 7.988146e-05 & 4.171196e-05 & 4.059433e-05 & 2.852180e-05 & 0.8364544    & 1            & 0.09192105  \\\\\n",
       "\t 5.018051e-05 & 2.253431e-05 & 2.173571e-05 & 2.849541e-05 & 0.9110452    & 1            & 0.15480835  \\\\\n",
       "\t 6.775706e-05 & 2.295157e-05 & 2.434267e-05 & 1.839523e-05 & 0.9308579    & 1            & 0.17925178  \\\\\n",
       "\t 5.014425e-05 & 2.604510e-05 & 2.631053e-05 & 2.144824e-05 & 0.9487500    & 1            & 0.18361258  \\\\\n",
       "\t 5.947452e-05 & 2.345054e-05 & 2.676257e-05 & 1.027831e-05 & 0.9452055    & 1            & 0.18430112  \\\\\n",
       "\\end{tabular}\n"
      ],
      "text/markdown": [
       "\n",
       "hum | temp | atemp | windspeed | registered | season | cnt | \n",
       "|---|---|---|---|---|---|\n",
       "| 9.247567e-05 | 3.949587e-05 | 4.172883e-05 | 1.841244e-05 | 0.6639594    | 1            | 0.11303649   | \n",
       "| 7.988146e-05 | 4.171196e-05 | 4.059433e-05 | 2.852180e-05 | 0.8364544    | 1            | 0.09192105   | \n",
       "| 5.018051e-05 | 2.253431e-05 | 2.173571e-05 | 2.849541e-05 | 0.9110452    | 1            | 0.15480835   | \n",
       "| 6.775706e-05 | 2.295157e-05 | 2.434267e-05 | 1.839523e-05 | 0.9308579    | 1            | 0.17925178   | \n",
       "| 5.014425e-05 | 2.604510e-05 | 2.631053e-05 | 2.144824e-05 | 0.9487500    | 1            | 0.18361258   | \n",
       "| 5.947452e-05 | 2.345054e-05 | 2.676257e-05 | 1.027831e-05 | 0.9452055    | 1            | 0.18430112   | \n",
       "\n",
       "\n"
      ],
      "text/plain": [
       "  hum          temp         atemp        windspeed    registered season\n",
       "1 9.247567e-05 3.949587e-05 4.172883e-05 1.841244e-05 0.6639594  1     \n",
       "2 7.988146e-05 4.171196e-05 4.059433e-05 2.852180e-05 0.8364544  1     \n",
       "3 5.018051e-05 2.253431e-05 2.173571e-05 2.849541e-05 0.9110452  1     \n",
       "4 6.775706e-05 2.295157e-05 2.434267e-05 1.839523e-05 0.9308579  1     \n",
       "5 5.014425e-05 2.604510e-05 2.631053e-05 2.144824e-05 0.9487500  1     \n",
       "6 5.947452e-05 2.345054e-05 2.676257e-05 1.027831e-05 0.9452055  1     \n",
       "  cnt       \n",
       "1 0.11303649\n",
       "2 0.09192105\n",
       "3 0.15480835\n",
       "4 0.17925178\n",
       "5 0.18361258\n",
       "6 0.18430112"
      ]
     },
     "metadata": {},
     "output_type": "display_data"
    }
   ],
   "source": [
    "remove_outliers <- function(x, na.rm = TRUE, ...) {\n",
    "  qnt <- quantile(x, probs=c(.25, .75), na.rm = na.rm, ...)\n",
    "  H <- 1.5 * IQR(x, na.rm = na.rm)\n",
    "  y <- x\n",
    "  y[x < (qnt[1] - H)] <- NA\n",
    "  y[x > (qnt[2] + H)] <- NA\n",
    "  y\n",
    "}\n",
    "\n",
    "withoutOutliers <- data.frame(\n",
    "    'hum' = remove_outliers(data_p$hum),\n",
    "    'temp' = remove_outliers(data_p$temp),\n",
    "    'atemp' = remove_outliers(data_p$atemp),\n",
    "    'windspeed' = remove_outliers(data_p$windspeed),\n",
    "    'registered' = remove_outliers(data_p$registered),\n",
    "    'season' = data_p$season,\n",
    "    'cnt' = data_p$cnt)\n",
    "head(withoutOutliers)"
   ]
  },
  {
   "cell_type": "code",
   "execution_count": 71,
   "metadata": {},
   "outputs": [
    {
     "name": "stdout",
     "output_type": "stream",
     "text": [
      "[1] 56.25\n"
     ]
    }
   ],
   "source": [
    "# Jak dobrze liczę strasznie dużo się usunęło... powinno być do 10%\n",
    "\n",
    "removed_rate <- 100 * (1 - (length(withoutOutliers) / length(data)))\n",
    "\n",
    "print(removed_rate)"
   ]
  },
  {
   "cell_type": "code",
   "execution_count": 72,
   "metadata": {},
   "outputs": [
    {
     "data": {
      "text/plain": [
       "      hum                 temp               atemp             windspeed      \n",
       " Min.   :0.0000292   Min.   :6.786e-06   Min.   :9.074e-06   Min.   :3.0e-06  \n",
       " 1st Qu.:0.0000599   1st Qu.:3.868e-05   1st Qu.:3.877e-05   1st Qu.:1.5e-05  \n",
       " Median :0.0000720   Median :5.719e-05   Median :5.586e-05   Median :2.1e-05  \n",
       " Mean   :0.0000722   Mean   :5.685e-05   Mean   :5.444e-05   Mean   :2.1e-05  \n",
       " 3rd Qu.:0.0000838   3rd Qu.:7.521e-05   3rd Qu.:6.984e-05   3rd Qu.:2.6e-05  \n",
       " Max.   :0.0001116   Max.   :9.888e-05   Max.   :9.650e-05   Max.   :4.3e-05  \n",
       " NA's   :2                                                   NA's   :13       \n",
       "   registered         season           cnt          \n",
       " Min.   :0.6153   Min.   :1.000   Min.   :0.002525  \n",
       " 1st Qu.:0.8047   1st Qu.:2.000   1st Qu.:0.361717  \n",
       " Median :0.8533   Median :3.000   Median :0.521919  \n",
       " Mean   :0.8376   Mean   :2.497   Mean   :0.516909  \n",
       " 3rd Qu.:0.9040   3rd Qu.:3.000   3rd Qu.:0.683498  \n",
       " Max.   :0.9868   Max.   :4.000   Max.   :1.000000  \n",
       " NA's   :36                                         "
      ]
     },
     "metadata": {},
     "output_type": "display_data"
    }
   ],
   "source": [
    "summary(withoutOutliers)"
   ]
  },
  {
   "cell_type": "code",
   "execution_count": 73,
   "metadata": {},
   "outputs": [
    {
     "data": {
      "image/png": "[encoded data removed]",
      "text/plain": [
       "Plot with title \"registered\""
      ]
     },
     "metadata": {},
     "output_type": "display_data"
    }
   ],
   "source": [
    "par(mfrow=c(1, 5))\n",
    "\n",
    "boxplot(withoutOutliers$hum, main=\"hum\")\n",
    "boxplot(withoutOutliers$temp, main=\"temp\")\n",
    "boxplot(withoutOutliers$atemp, main=\"atemp\")\n",
    "boxplot(withoutOutliers$windspeed, main=\"windspeed\")\n",
    "boxplot(withoutOutliers$registered, main=\"registered\")"
   ]
  },
  {
   "cell_type": "code",
   "execution_count": 74,
   "metadata": {},
   "outputs": [
    {
     "data": {
      "image/png": "[encoded data removed]",
      "text/plain": [
       "Plot with title \"Histogram of withoutOutliers$cnt\""
      ]
     },
     "metadata": {},
     "output_type": "display_data"
    }
   ],
   "source": [
    "par(mfrow = c(3,2))\n",
    "\n",
    "hist(withoutOutliers$temp, xlab = 'temp')\n",
    "hist(withoutOutliers$hum, xlab = 'hum')\n",
    "hist(withoutOutliers$atemp, xlab = 'atemp')\n",
    "hist(withoutOutliers$windspeed, xlab = 'wind speed')\n",
    "hist(withoutOutliers$season, xlab = 'season')\n",
    "hist(withoutOutliers$cnt, xlab = 'total count')"
   ]
  },
  {
   "cell_type": "markdown",
   "metadata": {},
   "source": [
    "Metoda forward"
   ]
  },
  {
   "cell_type": "code",
   "execution_count": 82,
   "metadata": {},
   "outputs": [
    {
     "data": {
      "text/plain": [
       "\n",
       "Call:\n",
       "lm(formula = withoutOutliers$cnt ~ withoutOutliers$temp + withoutOutliers$atemp + \n",
       "    withoutOutliers$hum + withoutOutliers$windspeed + withoutOutliers$registered)\n",
       "\n",
       "Residuals:\n",
       "     Min       1Q   Median       3Q      Max \n",
       "-0.50477 -0.12336 -0.00733  0.12536  0.39537 \n",
       "\n",
       "Coefficients:\n",
       "                             Estimate Std. Error t value Pr(>|t|)    \n",
       "(Intercept)                 5.500e-01  8.040e-02   6.841 1.76e-11 ***\n",
       "withoutOutliers$temp        1.917e+03  2.316e+03   0.828   0.4080    \n",
       "withoutOutliers$atemp       5.073e+03  2.620e+03   1.937   0.0532 .  \n",
       "withoutOutliers$hum        -3.432e+03  4.057e+02  -8.458  < 2e-16 ***\n",
       "withoutOutliers$windspeed  -4.493e+03  7.981e+02  -5.630 2.64e-08 ***\n",
       "withoutOutliers$registered -8.409e-02  7.573e-02  -1.110   0.2672    \n",
       "---\n",
       "Signif. codes:  0 '***' 0.001 '**' 0.01 '*' 0.05 '.' 0.1 ' ' 1\n",
       "\n",
       "Residual standard error: 0.1629 on 675 degrees of freedom\n",
       "  (50 observations deleted due to missingness)\n",
       "Multiple R-squared:  0.4673,\tAdjusted R-squared:  0.4633 \n",
       "F-statistic: 118.4 on 5 and 675 DF,  p-value: < 2.2e-16\n"
      ]
     },
     "metadata": {},
     "output_type": "display_data"
    },
    {
     "data": {
      "image/png": "[encoded data removed]",
      "text/plain": [
       "Plot with title \"\""
      ]
     },
     "metadata": {},
     "output_type": "display_data"
    }
   ],
   "source": [
    "model <- lm(withoutOutliers$cnt~withoutOutliers$temp + withoutOutliers$atemp + withoutOutliers$hum + withoutOutliers$windspeed + withoutOutliers$registered)\n",
    "summary(model)\n",
    "par(mfrow=c(2, 2))\n",
    "plot(model)"
   ]
  },
  {
   "cell_type": "code",
   "execution_count": 83,
   "metadata": {},
   "outputs": [
    {
     "name": "stdout",
     "output_type": "stream",
     "text": [
      "Start:  AIC=-2465.13\n",
      "withoutOutliers$cnt ~ withoutOutliers$temp + withoutOutliers$atemp + \n",
      "    withoutOutliers$hum + withoutOutliers$windspeed + withoutOutliers$registered\n",
      "\n"
     ]
    }
   ],
   "source": [
    "model.forward <- step(model, direction=\"forward\", trace=1, scope= ~withoutOutliers$temp + withoutOutliers$atemp + withoutOutliers$hum + withoutOutliers$windspeed + withoutOutliers$registered)"
   ]
  },
  {
   "cell_type": "code",
   "execution_count": 81,
   "metadata": {},
   "outputs": [],
   "source": [
    "write.csv(withoutOutliers, file = \"day_final\")"
   ]
  },
  {
   "cell_type": "code",
   "execution_count": null,
   "metadata": {},
   "outputs": [],
   "source": []
  }
 ],
 "metadata": {
  "kernelspec": {
   "display_name": "R",
   "language": "R",
   "name": "ir"
  },
  "latex_envs": {
   "LaTeX_envs_menu_present": true,
   "autoclose": false,
   "autocomplete": true,
   "bibliofile": "biblio.bib",
   "cite_by": "apalike",
   "current_citInitial": 1,
   "eqLabelWithNumbers": true,
   "eqNumInitial": 1,
   "hotkeys": {
    "equation": "Ctrl-E",
    "itemize": "Ctrl-I"
   },
   "labels_anchors": false,
   "latex_user_defs": false,
   "report_style_numbering": false,
   "user_envs_cfg": false
  },
  "toc": {
   "base_numbering": 1,
   "nav_menu": {},
   "number_sections": true,
   "sideBar": true,
   "skip_h1_title": false,
   "title_cell": "Table of Contents",
   "title_sidebar": "Contents",
   "toc_cell": false,
   "toc_position": {},
   "toc_section_display": true,
   "toc_window_display": false
  }
 },
 "nbformat": 4,
 "nbformat_minor": 2
}
